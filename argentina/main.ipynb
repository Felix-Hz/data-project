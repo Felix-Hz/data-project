{
 "cells": [
  {
   "attachments": {},
   "cell_type": "markdown",
   "metadata": {},
   "source": [
    "# Argentina"
   ]
  },
  {
   "cell_type": "code",
   "execution_count": 1,
   "metadata": {},
   "outputs": [],
   "source": [
    "import os\n",
    "import pandas as pd\n",
    "import json\n",
    "import gspread as gs\n",
    "import warnings\n",
    "\n",
    "from utils.clean import wrangling\n",
    "from utils.top_imports import top_importadores\n",
    "from utils.data_anual import annual_data\n",
    "from utils.vol_origenes import analisis_origenes\n",
    "\n",
    "pd.options.display.max_columns = None\n",
    "pd.options.display.max_rows = None\n",
    "pd.options.display.max_colwidth = None\n",
    "\n",
    "warnings.simplefilter(\"ignore\")\n",
    "\n",
    "                    ### ~~~ ###\n",
    "                ###     PATH     ###\n",
    "                    ### ~~~ ###\n",
    "\n",
    "location_2013 = \"./data/283525_Importaciones_2013.xlsx\"\n",
    "location_2014 = \"./data/283525_Importaciones_2014.xlsx\"\n",
    "location_2015 = \"./data/283525_Importaciones_2015.xlsx\"\n",
    "location_2016 = \"./data/283525_Importaciones_2016.xlsx\"\n",
    "location_2017 = \"./data/283525_Importaciones_2017.xlsx\"\n",
    "location_2018 = \"./data/283525_Importaciones_2018.xlsx\"\n",
    "location_2019 = \"./data/283525_Importaciones_2019.xlsx\"\n",
    "location_2020 = \"./data/283525_Importaciones_2020.xlsx\"\n",
    "location_2021 = \"./data/283525_Importaciones_2021.xlsx\"\n",
    "location_2022 = \"./data/283525_Importaciones_2022.xlsx\"\n",
    "location_2023 = \"./data/283525_Importaciones_2023.xlsx\"\n",
    "\n",
    "                    ### ~~~ ###\n",
    "                ###     DATA     ###\n",
    "                    ### ~~~ ###\n",
    "\n",
    "data2013 = pd.read_excel(location_2013, engine=\"openpyxl\")\n",
    "data2014 = pd.read_excel(location_2014, engine=\"openpyxl\")\n",
    "data2015 = pd.read_excel(location_2015, engine=\"openpyxl\")\n",
    "data2016 = pd.read_excel(location_2016, engine=\"openpyxl\")\n",
    "data2017 = pd.read_excel(location_2017, engine=\"openpyxl\")\n",
    "data2018 = pd.read_excel(location_2018, engine=\"openpyxl\")\n",
    "data2019 = pd.read_excel(location_2019, engine=\"openpyxl\")\n",
    "data2020 = pd.read_excel(location_2020, engine=\"openpyxl\")\n",
    "data2021 = pd.read_excel(location_2021, engine=\"openpyxl\")\n",
    "data2022 = pd.read_excel(location_2022, engine=\"openpyxl\")\n",
    "data2023 = pd.read_excel(location_2023, engine=\"openpyxl\")\n"
   ]
  },
  {
   "cell_type": "code",
   "execution_count": 2,
   "metadata": {},
   "outputs": [
    {
     "name": "stdout",
     "output_type": "stream",
     "text": [
      "Este df tiene (filas, col):\n",
      "___________________\n",
      "> 2013: (84, 35)\n",
      "~~~~~~~~~~~~~~~~~~~\n",
      "> 2014: (99, 35)\n",
      "~~~~~~~~~~~~~~~~~~~\n",
      "> 2015: (79, 35)\n",
      "~~~~~~~~~~~~~~~~~~~\n",
      "> 2016: (75, 35)\n",
      "~~~~~~~~~~~~~~~~~~~\n",
      "> 2017: (66, 35)\n",
      "~~~~~~~~~~~~~~~~~~~\n",
      "> 2018: (70, 35)\n",
      "~~~~~~~~~~~~~~~~~~~\n",
      "> 2019: (70, 35)\n",
      "~~~~~~~~~~~~~~~~~~~\n",
      "> 2020: (63, 35)\n",
      "~~~~~~~~~~~~~~~~~~~\n",
      "> 2021: (67, 35)\n",
      "~~~~~~~~~~~~~~~~~~~\n",
      "> 2022: (71, 35)\n",
      "~~~~~~~~~~~~~~~~~~~\n",
      "> 2023: (9, 35)\n",
      "~~~~~~~~~~~~~~~~~~~\n"
     ]
    }
   ],
   "source": [
    "# MERGE\n",
    "dfs = [data2013, data2014, data2015, data2016, data2017,\n",
    "       data2018, data2019, data2020, data2021, data2022, data2023]\n",
    "\n",
    "print(\"Este df tiene (filas, col):\\n___________________\")\n",
    "\n",
    "for df in dfs:\n",
    "    print(f\"> {df['Fecha'][0].year}: {df.shape}\\n~~~~~~~~~~~~~~~~~~~\")\n"
   ]
  },
  {
   "cell_type": "code",
   "execution_count": 3,
   "metadata": {},
   "outputs": [
    {
     "name": "stdout",
     "output_type": "stream",
     "text": [
      "~ Limpiando marcas...\n",
      "~ Limpiando NCMs...\n",
      "~ Creando columna de precio...\n",
      "~ Dropping outliers...\n",
      "~ Dropping nulls...\n",
      "> Done with: 2013\n",
      "~~~~~~~~~~~~~~~~~~~\n",
      "~ Limpiando marcas...\n",
      "~ Limpiando NCMs...\n",
      "~ Creando columna de precio...\n",
      "~ Dropping outliers...\n",
      "~ Dropping nulls...\n",
      "> Done with: 2014\n",
      "~~~~~~~~~~~~~~~~~~~\n",
      "~ Limpiando marcas...\n",
      "~ Limpiando NCMs...\n",
      "~ Creando columna de precio...\n",
      "~ Dropping outliers...\n",
      "~ Dropping nulls...\n",
      "> Done with: 2015\n",
      "~~~~~~~~~~~~~~~~~~~\n",
      "~ Limpiando marcas...\n",
      "~ Limpiando NCMs...\n",
      "~ Creando columna de precio...\n",
      "~ Dropping outliers...\n",
      "~ Dropping nulls...\n",
      "> Done with: 2016\n",
      "~~~~~~~~~~~~~~~~~~~\n",
      "~ Limpiando marcas...\n",
      "~ Limpiando NCMs...\n",
      "~ Creando columna de precio...\n",
      "~ Dropping outliers...\n",
      "~ Dropping nulls...\n",
      "> Done with: 2017\n",
      "~~~~~~~~~~~~~~~~~~~\n",
      "~ Limpiando marcas...\n",
      "~ Limpiando NCMs...\n",
      "~ Creando columna de precio...\n",
      "~ Dropping outliers...\n",
      "~ Dropping nulls...\n",
      "> Done with: 2018\n",
      "~~~~~~~~~~~~~~~~~~~\n",
      "~ Limpiando marcas...\n",
      "~ Limpiando NCMs...\n",
      "~ Creando columna de precio...\n",
      "~ Dropping outliers...\n",
      "~ Dropping nulls...\n",
      "> Done with: 2019\n",
      "~~~~~~~~~~~~~~~~~~~\n",
      "~ Limpiando marcas...\n",
      "~ Limpiando NCMs...\n",
      "~ Creando columna de precio...\n",
      "~ Dropping outliers...\n",
      "~ Dropping nulls...\n",
      "> Done with: 2020\n",
      "~~~~~~~~~~~~~~~~~~~\n",
      "~ Limpiando marcas...\n",
      "~ Limpiando NCMs...\n",
      "~ Creando columna de precio...\n",
      "~ Dropping outliers...\n",
      "~ Dropping nulls...\n",
      "> Done with: 2021\n",
      "~~~~~~~~~~~~~~~~~~~\n",
      "~ Limpiando marcas...\n",
      "~ Limpiando NCMs...\n",
      "~ Creando columna de precio...\n",
      "~ Dropping outliers...\n",
      "~ Dropping nulls...\n",
      "> Done with: 2022\n",
      "~~~~~~~~~~~~~~~~~~~\n",
      "~ Limpiando marcas...\n",
      "~ Limpiando NCMs...\n",
      "~ Creando columna de precio...\n",
      "~ Dropping outliers...\n",
      "~ Dropping nulls...\n",
      "> No data for: 2023\n",
      "~~~~~~~~~~~~~~~~~~~\n"
     ]
    }
   ],
   "source": [
    "results_dfs = wrangling(dfs)\n",
    "\n",
    "# df_final = pd.concat(dfs, axis=0)\n",
    "# df_final.isnull().sum()\n",
    "# df_final.sample(25)\n"
   ]
  },
  {
   "cell_type": "code",
   "execution_count": 4,
   "metadata": {},
   "outputs": [
    {
     "name": "stdout",
     "output_type": "stream",
     "text": [
      "> Estadísticos del precio en el año per ton:\n",
      "___________________\n",
      "- En el 2013:\n",
      "count    25.00000\n",
      "mean      0.60560\n",
      "std       0.07816\n",
      "min       0.45000\n",
      "25%       0.54000\n",
      "50%       0.64000\n",
      "75%       0.67000\n",
      "max       0.71000\n",
      "Name: U$S Unitario, dtype: float64\n",
      "~~~~~~~~~~~~~~~~~~~\n",
      "- En el 2014:\n",
      "count    52.000000\n",
      "mean      0.593462\n",
      "std       0.074040\n",
      "min       0.500000\n",
      "25%       0.520000\n",
      "50%       0.570000\n",
      "75%       0.682500\n",
      "max       0.710000\n",
      "Name: U$S Unitario, dtype: float64\n",
      "~~~~~~~~~~~~~~~~~~~\n",
      "- En el 2015:\n",
      "count    28.000000\n",
      "mean      0.615000\n",
      "std       0.045583\n",
      "min       0.540000\n",
      "25%       0.590000\n",
      "50%       0.620000\n",
      "75%       0.640000\n",
      "max       0.710000\n",
      "Name: U$S Unitario, dtype: float64\n",
      "~~~~~~~~~~~~~~~~~~~\n"
     ]
    },
    {
     "ename": "KeyError",
     "evalue": "5",
     "output_type": "error",
     "traceback": [
      "\u001b[0;31m---------------------------------------------------------------------------\u001b[0m",
      "\u001b[0;31mKeyError\u001b[0m                                  Traceback (most recent call last)",
      "File \u001b[0;32m~/Documents/code-repos/data-project/venv/lib/python3.9/site-packages/pandas/core/indexes/base.py:3802\u001b[0m, in \u001b[0;36mIndex.get_loc\u001b[0;34m(self, key, method, tolerance)\u001b[0m\n\u001b[1;32m   3801\u001b[0m \u001b[39mtry\u001b[39;00m:\n\u001b[0;32m-> 3802\u001b[0m     \u001b[39mreturn\u001b[39;00m \u001b[39mself\u001b[39;49m\u001b[39m.\u001b[39;49m_engine\u001b[39m.\u001b[39;49mget_loc(casted_key)\n\u001b[1;32m   3803\u001b[0m \u001b[39mexcept\u001b[39;00m \u001b[39mKeyError\u001b[39;00m \u001b[39mas\u001b[39;00m err:\n",
      "File \u001b[0;32m~/Documents/code-repos/data-project/venv/lib/python3.9/site-packages/pandas/_libs/index.pyx:138\u001b[0m, in \u001b[0;36mpandas._libs.index.IndexEngine.get_loc\u001b[0;34m()\u001b[0m\n",
      "File \u001b[0;32m~/Documents/code-repos/data-project/venv/lib/python3.9/site-packages/pandas/_libs/index.pyx:165\u001b[0m, in \u001b[0;36mpandas._libs.index.IndexEngine.get_loc\u001b[0;34m()\u001b[0m\n",
      "File \u001b[0;32mpandas/_libs/hashtable_class_helper.pxi:2263\u001b[0m, in \u001b[0;36mpandas._libs.hashtable.Int64HashTable.get_item\u001b[0;34m()\u001b[0m\n",
      "File \u001b[0;32mpandas/_libs/hashtable_class_helper.pxi:2273\u001b[0m, in \u001b[0;36mpandas._libs.hashtable.Int64HashTable.get_item\u001b[0;34m()\u001b[0m\n",
      "\u001b[0;31mKeyError\u001b[0m: 5",
      "\nThe above exception was the direct cause of the following exception:\n",
      "\u001b[0;31mKeyError\u001b[0m                                  Traceback (most recent call last)",
      "Cell \u001b[0;32mIn[4], line 5\u001b[0m\n\u001b[1;32m      1\u001b[0m \u001b[39mprint\u001b[39m(\u001b[39mf\u001b[39m\u001b[39m\"\u001b[39m\u001b[39m> Estadísticos del precio en el año per ton:\u001b[39m\u001b[39m\\n\u001b[39;00m\u001b[39m___________________\u001b[39m\u001b[39m\"\u001b[39m)\n\u001b[1;32m      3\u001b[0m \u001b[39mfor\u001b[39;00m df \u001b[39min\u001b[39;00m results_dfs:\n\u001b[1;32m      4\u001b[0m     \u001b[39mprint\u001b[39m(\n\u001b[0;32m----> 5\u001b[0m         \u001b[39mf\u001b[39m\u001b[39m\"\u001b[39m\u001b[39m- En el \u001b[39m\u001b[39m{\u001b[39;00mdf[\u001b[39m'\u001b[39m\u001b[39mFecha\u001b[39m\u001b[39m'\u001b[39m][\u001b[39m5\u001b[39m]\u001b[39m.\u001b[39myear\u001b[39m}\u001b[39;00m\u001b[39m:\u001b[39m\u001b[39m\\n\u001b[39;00m\u001b[39m{\u001b[39;00mdf[\u001b[39m'\u001b[39m\u001b[39mU$S Unitario\u001b[39m\u001b[39m'\u001b[39m]\u001b[39m.\u001b[39mdescribe()\u001b[39m}\u001b[39;00m\u001b[39m\\n\u001b[39;00m\u001b[39m~~~~~~~~~~~~~~~~~~~\u001b[39m\u001b[39m\"\u001b[39m)\n",
      "File \u001b[0;32m~/Documents/code-repos/data-project/venv/lib/python3.9/site-packages/pandas/core/series.py:981\u001b[0m, in \u001b[0;36mSeries.__getitem__\u001b[0;34m(self, key)\u001b[0m\n\u001b[1;32m    978\u001b[0m     \u001b[39mreturn\u001b[39;00m \u001b[39mself\u001b[39m\u001b[39m.\u001b[39m_values[key]\n\u001b[1;32m    980\u001b[0m \u001b[39melif\u001b[39;00m key_is_scalar:\n\u001b[0;32m--> 981\u001b[0m     \u001b[39mreturn\u001b[39;00m \u001b[39mself\u001b[39;49m\u001b[39m.\u001b[39;49m_get_value(key)\n\u001b[1;32m    983\u001b[0m \u001b[39mif\u001b[39;00m is_hashable(key):\n\u001b[1;32m    984\u001b[0m     \u001b[39m# Otherwise index.get_value will raise InvalidIndexError\u001b[39;00m\n\u001b[1;32m    985\u001b[0m     \u001b[39mtry\u001b[39;00m:\n\u001b[1;32m    986\u001b[0m         \u001b[39m# For labels that don't resolve as scalars like tuples and frozensets\u001b[39;00m\n",
      "File \u001b[0;32m~/Documents/code-repos/data-project/venv/lib/python3.9/site-packages/pandas/core/series.py:1089\u001b[0m, in \u001b[0;36mSeries._get_value\u001b[0;34m(self, label, takeable)\u001b[0m\n\u001b[1;32m   1086\u001b[0m     \u001b[39mreturn\u001b[39;00m \u001b[39mself\u001b[39m\u001b[39m.\u001b[39m_values[label]\n\u001b[1;32m   1088\u001b[0m \u001b[39m# Similar to Index.get_value, but we do not fall back to positional\u001b[39;00m\n\u001b[0;32m-> 1089\u001b[0m loc \u001b[39m=\u001b[39m \u001b[39mself\u001b[39;49m\u001b[39m.\u001b[39;49mindex\u001b[39m.\u001b[39;49mget_loc(label)\n\u001b[1;32m   1090\u001b[0m \u001b[39mreturn\u001b[39;00m \u001b[39mself\u001b[39m\u001b[39m.\u001b[39mindex\u001b[39m.\u001b[39m_get_values_for_loc(\u001b[39mself\u001b[39m, loc, label)\n",
      "File \u001b[0;32m~/Documents/code-repos/data-project/venv/lib/python3.9/site-packages/pandas/core/indexes/base.py:3804\u001b[0m, in \u001b[0;36mIndex.get_loc\u001b[0;34m(self, key, method, tolerance)\u001b[0m\n\u001b[1;32m   3802\u001b[0m     \u001b[39mreturn\u001b[39;00m \u001b[39mself\u001b[39m\u001b[39m.\u001b[39m_engine\u001b[39m.\u001b[39mget_loc(casted_key)\n\u001b[1;32m   3803\u001b[0m \u001b[39mexcept\u001b[39;00m \u001b[39mKeyError\u001b[39;00m \u001b[39mas\u001b[39;00m err:\n\u001b[0;32m-> 3804\u001b[0m     \u001b[39mraise\u001b[39;00m \u001b[39mKeyError\u001b[39;00m(key) \u001b[39mfrom\u001b[39;00m \u001b[39merr\u001b[39;00m\n\u001b[1;32m   3805\u001b[0m \u001b[39mexcept\u001b[39;00m \u001b[39mTypeError\u001b[39;00m:\n\u001b[1;32m   3806\u001b[0m     \u001b[39m# If we have a listlike key, _check_indexing_error will raise\u001b[39;00m\n\u001b[1;32m   3807\u001b[0m     \u001b[39m#  InvalidIndexError. Otherwise we fall through and re-raise\u001b[39;00m\n\u001b[1;32m   3808\u001b[0m     \u001b[39m#  the TypeError.\u001b[39;00m\n\u001b[1;32m   3809\u001b[0m     \u001b[39mself\u001b[39m\u001b[39m.\u001b[39m_check_indexing_error(key)\n",
      "\u001b[0;31mKeyError\u001b[0m: 5"
     ]
    }
   ],
   "source": [
    "print(f\"> Estadísticos del precio en el año per ton:\\n___________________\")\n",
    "\n",
    "for df in results_dfs:\n",
    "    print(\n",
    "        f\"- En el {df['Fecha'][5].year}:\\n{df['U$S Unitario'].describe()}\\n~~~~~~~~~~~~~~~~~~~\")\n"
   ]
  },
  {
   "cell_type": "code",
   "execution_count": null,
   "metadata": {},
   "outputs": [],
   "source": [
    "annual_data = annual_data(results_dfs)\n"
   ]
  },
  {
   "cell_type": "code",
   "execution_count": null,
   "metadata": {},
   "outputs": [],
   "source": [
    "top_importadores = top_importadores(results_dfs)\n"
   ]
  },
  {
   "cell_type": "code",
   "execution_count": null,
   "metadata": {},
   "outputs": [],
   "source": [
    "analisis_origenes = analisis_origenes(dfs)\n"
   ]
  },
  {
   "cell_type": "code",
   "execution_count": null,
   "metadata": {},
   "outputs": [],
   "source": [
    "# EXPORT TO PICKLE\n",
    "CURRENT_WD = os.getcwd()\n",
    "COUNTRY_WD = os.path.basename(CURRENT_WD).split('/')[-1]\n",
    "\n",
    "# df_final.to_pickle(f'{COUNTRY_WD}.pkl')\n"
   ]
  }
 ],
 "metadata": {
  "kernelspec": {
   "display_name": "venv",
   "language": "python",
   "name": "python3"
  },
  "language_info": {
   "codemirror_mode": {
    "name": "ipython",
    "version": 3
   },
   "file_extension": ".py",
   "mimetype": "text/x-python",
   "name": "python",
   "nbconvert_exporter": "python",
   "pygments_lexer": "ipython3",
   "version": "3.9.6"
  },
  "orig_nbformat": 4
 },
 "nbformat": 4,
 "nbformat_minor": 2
}
