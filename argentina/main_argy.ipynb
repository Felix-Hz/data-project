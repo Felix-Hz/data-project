{
 "cells": [
  {
   "cell_type": "code",
   "execution_count": 1,
   "metadata": {},
   "outputs": [
    {
     "name": "stdout",
     "output_type": "stream",
     "text": [
      "Este dataframe tiene (filas, col):\n",
      "\n",
      "2013: (84, 35)\n",
      "\n",
      "2014: (99, 35)\n",
      "\n",
      "2015: (79, 35)\n",
      "\n",
      "2016: (75, 35)\n",
      "\n",
      "2017: (66, 35)\n",
      "\n",
      "2018: (70, 35)\n",
      "\n",
      "2019: (70, 35)\n",
      "\n",
      "2020: (63, 35)\n",
      "\n",
      "2021: (67, 35)\n",
      "\n",
      "2022: (71, 35)\n",
      "\n",
      "2023: (9, 35)\n",
      "- - - - - - - - - -\n"
     ]
    }
   ],
   "source": [
    "import pandas as pd\n",
    "import numpy as np\n",
    "import os\n",
    "import json\n",
    "import gspread as gs\n",
    "import warnings\n",
    "\n",
    "from clean_argy import argy_wrangling\n",
    "\n",
    "pd.options.display.max_columns = None\n",
    "pd.options.display.max_rows = None\n",
    "pd.options.display.max_colwidth = None\n",
    "\n",
    "warnings.simplefilter(\"ignore\")\n",
    "\n",
    "                ### ~~~ ###\n",
    "            ###     PATH     ###\n",
    "                ### ~~~ ### \n",
    "\n",
    "location_2013 = \"./data/283525_Importaciones_2013.xlsx\"\n",
    "location_2014 = \"./data/283525_Importaciones_2014.xlsx\"\n",
    "location_2015 = \"./data/283525_Importaciones_2015.xlsx\"\n",
    "location_2016 = \"./data/283525_Importaciones_2016.xlsx\"\n",
    "location_2017 = \"./data/283525_Importaciones_2017.xlsx\"\n",
    "location_2018 = \"./data/283525_Importaciones_2018.xlsx\"\n",
    "location_2019 = \"./data/283525_Importaciones_2019.xlsx\"\n",
    "location_2020 = \"./data/283525_Importaciones_2020.xlsx\"\n",
    "location_2021 = \"./data/283525_Importaciones_2021.xlsx\"\n",
    "location_2022 = \"./data/283525_Importaciones_2022.xlsx\"\n",
    "location_2023 = \"./data/283525_Importaciones_2023.xlsx\"\n",
    "\n",
    "                    ### ~~~ ###\n",
    "                ###     DATA     ###\n",
    "                    ### ~~~ ###\n",
    "\n",
    "data2013 = pd.read_excel(location_2013, engine=\"openpyxl\")\n",
    "data2014 = pd.read_excel(location_2014, engine=\"openpyxl\")\n",
    "data2015 = pd.read_excel(location_2015, engine=\"openpyxl\")\n",
    "data2016 = pd.read_excel(location_2016, engine=\"openpyxl\")\n",
    "data2017 = pd.read_excel(location_2017, engine=\"openpyxl\")\n",
    "data2018 = pd.read_excel(location_2018, engine=\"openpyxl\")\n",
    "data2019 = pd.read_excel(location_2019, engine=\"openpyxl\")\n",
    "data2020 = pd.read_excel(location_2020, engine=\"openpyxl\")\n",
    "data2021 = pd.read_excel(location_2021, engine=\"openpyxl\")\n",
    "data2022 = pd.read_excel(location_2022, engine=\"openpyxl\")\n",
    "data2023 = pd.read_excel(location_2023, engine=\"openpyxl\")\n",
    "\n",
    "print(\n",
    "    f\"Este dataframe tiene (filas, col):\\n\\n2013: {data2013.shape}\\n\\n2014: {data2014.shape}\\n\\n2015: {data2015.shape}\\n\\n2016: {data2016.shape}\\n\\n2017: {data2017.shape}\\n\\n2018: {data2018.shape}\\n\\n2019: {data2019.shape}\\n\\n2020: {data2020.shape}\\n\\n2021: {data2021.shape}\\n\\n2022: {data2022.shape}\\n\\n2023: {data2023.shape}\\n- - - - - - - - - -\")\n"
   ]
  },
  {
   "cell_type": "code",
   "execution_count": 2,
   "metadata": {},
   "outputs": [
    {
     "name": "stdout",
     "output_type": "stream",
     "text": [
      "Done with: 2013\n",
      "Done with: 2014\n",
      "Done with: 2015\n",
      "Done with: 2016\n",
      "Done with: 2017\n",
      "Done with: 2018\n",
      "Done with: 2019\n",
      "Done with: 2020\n",
      "Done with: 2021\n",
      "Done with: 2022\n",
      "Done with: 2023\n"
     ]
    }
   ],
   "source": [
    "# MERGE\n",
    "dfs = [data2013, data2014, data2015, data2016, data2017,\n",
    "       data2018, data2019, data2020, data2021, data2022, data2023]\n",
    "\n",
    "argy_wrangling(dfs)\n",
    "\n",
    "# df_final = pd.concat(dfs, axis=0)\n",
    "# df_final.isnull().sum()\n",
    "# df_final.sample(25)\n"
   ]
  },
  {
   "cell_type": "code",
   "execution_count": null,
   "metadata": {},
   "outputs": [],
   "source": []
  },
  {
   "cell_type": "code",
   "execution_count": 3,
   "metadata": {},
   "outputs": [],
   "source": [
    "# EXPORT TO PICKLE\n",
    "CURRENT_WD = os.getcwd()\n",
    "COUNTRY_WD = os.path.basename(CURRENT_WD).split('/')[-1]\n",
    "\n",
    "# df_final.to_pickle(f'{COUNTRY_WD}.pkl')\n"
   ]
  }
 ],
 "metadata": {
  "kernelspec": {
   "display_name": "venv",
   "language": "python",
   "name": "python3"
  },
  "language_info": {
   "codemirror_mode": {
    "name": "ipython",
    "version": 3
   },
   "file_extension": ".py",
   "mimetype": "text/x-python",
   "name": "python",
   "nbconvert_exporter": "python",
   "pygments_lexer": "ipython3",
   "version": "3.9.6"
  },
  "orig_nbformat": 4
 },
 "nbformat": 4,
 "nbformat_minor": 2
}
