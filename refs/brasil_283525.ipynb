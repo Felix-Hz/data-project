{
  "cells": [
    {
      "attachments": {},
      "cell_type": "markdown",
      "metadata": {
        "id": "aXlKyqj4ZJwi"
      },
      "source": [
        "# **Brasil** - 283525\n",
        "\n",
        "### Analisis de datos de las importaciones del ultimo año, con especial enfasis en los ultimos 6 meses.\n",
        "\n",
        "> Esto es un analisis exploratorio inicial del de las Importaciones de Brasil (01/2022 - 12/2022). Los datos fueron extraidos de Softrade el 20/01/2022 a las 18:00 hs.\n",
        "\n",
        "- - - - - - - - - - - - - - - - - - - - - - - - - - - - - - - - - - - - - ***\n"
      ]
    },
    {
      "attachments": {},
      "cell_type": "markdown",
      "metadata": {
        "id": "pFYenBIIZJwl"
      },
      "source": [
        "## Parte 1\n",
        "\n",
        "#### Esto de abajo es una celda de codigo, que muestra el output abajo. Por ejemplo, aca levanto la bbdd e imprimo las primeras 5 columnas para ver si se cargo o no. Despues muestro informacion basica del \"dataframe\", que tiene X filas e Y columnas.\n"
      ]
    },
    {
      "cell_type": "code",
      "execution_count": 1,
      "metadata": {
        "colab": {
          "base_uri": "https://localhost:8080/"
        },
        "id": "X3j-wB20ZJwm",
        "outputId": "c3fe2458-59a1-40d4-b11b-4951dd038ad0"
      },
      "outputs": [
        {
          "name": "stdout",
          "output_type": "stream",
          "text": [
            "Este dataframe tiene (filas, col): \n",
            " (147, 12) \n",
            " - - - - - - - - - -\n"
          ]
        },
        {
          "data": {
            "text/html": [
              "<div>\n",
              "<style scoped>\n",
              "    .dataframe tbody tr th:only-of-type {\n",
              "        vertical-align: middle;\n",
              "    }\n",
              "\n",
              "    .dataframe tbody tr th {\n",
              "        vertical-align: top;\n",
              "    }\n",
              "\n",
              "    .dataframe thead th {\n",
              "        text-align: right;\n",
              "    }\n",
              "</style>\n",
              "<table border=\"1\" class=\"dataframe\">\n",
              "  <thead>\n",
              "    <tr style=\"text-align: right;\">\n",
              "      <th></th>\n",
              "      <th>Operación</th>\n",
              "      <th>Fecha</th>\n",
              "      <th>Código NCM</th>\n",
              "      <th>País de Origen</th>\n",
              "      <th>Puerto</th>\n",
              "      <th>Estado</th>\n",
              "      <th>Unitario FOB</th>\n",
              "      <th>U$S FOB</th>\n",
              "      <th>Cantidad Comercial</th>\n",
              "      <th>Unidad de Medida</th>\n",
              "      <th>Kgs. Brutos</th>\n",
              "      <th>Descripción de Mercadería</th>\n",
              "    </tr>\n",
              "  </thead>\n",
              "  <tbody>\n",
              "    <tr>\n",
              "      <th>136</th>\n",
              "      <td>70732</td>\n",
              "      <td>12/2022</td>\n",
              "      <td>2835.25.00</td>\n",
              "      <td>China</td>\n",
              "      <td>PARANAGUA</td>\n",
              "      <td>PARANA-PR</td>\n",
              "      <td>0.67</td>\n",
              "      <td>1336512</td>\n",
              "      <td>1980800</td>\n",
              "      <td>QUILOGRAMA LIQUIDO</td>\n",
              "      <td>1980800</td>\n",
              "      <td>HIDROGENOORTOFOSFATO DE CALCIO O FOSFATO DICAL...</td>\n",
              "    </tr>\n",
              "  </tbody>\n",
              "</table>\n",
              "</div>"
            ],
            "text/plain": [
              "     Operación    Fecha  Código NCM País de Origen     Puerto     Estado  \\\n",
              "136      70732  12/2022  2835.25.00          China  PARANAGUA  PARANA-PR   \n",
              "\n",
              "     Unitario FOB  U$S FOB  Cantidad Comercial    Unidad de Medida  \\\n",
              "136          0.67  1336512             1980800  QUILOGRAMA LIQUIDO   \n",
              "\n",
              "     Kgs. Brutos                          Descripción de Mercadería  \n",
              "136      1980800  HIDROGENOORTOFOSFATO DE CALCIO O FOSFATO DICAL...  "
            ]
          },
          "execution_count": 1,
          "metadata": {},
          "output_type": "execute_result"
        }
      ],
      "source": [
        "import pandas as pd\n",
        "import numpy as np\n",
        "import warnings\n",
        "# from google.colab import drive\n",
        "\n",
        "pd.options.display.max_columns = None\n",
        "pd.options.display.max_rows = None\n",
        "\n",
        "# !pwd\n",
        "# !cd drive\n",
        "\n",
        "# drive.mount('/content/drive')\n",
        "\n",
        "warnings.simplefilter(\"ignore\")\n",
        "\n",
        "data_location = \"./data/283525_Importaciones_01-12:2022.xlsx\"\n",
        "\n",
        "data = pd.read_excel(data_location, engine=\"openpyxl\")\n",
        "\n",
        "print(\"Este dataframe tiene (filas, col): \\n\",\n",
        "      data.shape, \"\\n\", \"- - - - - - - - - -\")\n",
        "\n",
        "data.sample(1)\n"
      ]
    },
    {
      "cell_type": "code",
      "execution_count": 2,
      "metadata": {
        "colab": {
          "base_uri": "https://localhost:8080/"
        },
        "id": "nODF-jrnZJwn",
        "outputId": "eaafe478-f493-465f-b898-c1a0e508b94a"
      },
      "outputs": [
        {
          "name": "stdout",
          "output_type": "stream",
          "text": [
            "\u001b[1m\n",
            "Esta bbdd tiene los siguientes datos: \n",
            " \n",
            "\u001b[0m ['Operación', 'Fecha', 'Código NCM', 'País de Origen', 'Puerto', 'Estado', 'Unitario FOB', 'U$S FOB', 'Cantidad Comercial', 'Unidad de Medida', 'Kgs. Brutos', 'Descripción de Mercadería'] \n",
            " \n",
            "- - - - - - - - - - - - - - - - -\n",
            "\n"
          ]
        }
      ],
      "source": [
        "data_cols = [col for col in data.columns]\n",
        "\n",
        "print(\"\\033[1m\" + \"\\nEsta bbdd tiene los siguientes datos: \\n \\n\" +\n",
        "      \"\\033[0m\", data_cols, \"\\n \\n- - - - - - - - - - - - - - - - -\\n\")\n"
      ]
    },
    {
      "cell_type": "markdown",
      "metadata": {
        "id": "eyJE4m7PZJwn"
      },
      "source": [
        "Vamos a ver si estan todos los registros en todas las celdas, o si hay datos sin rellenar:\n",
        "\n",
        "> Este metodo muchas veces puede salir mal porque a veces se rellenan los valores con n/a o cosas del estilo. Despues tambien reviso eso, no worries.\n"
      ]
    },
    {
      "cell_type": "code",
      "execution_count": 3,
      "metadata": {
        "colab": {
          "base_uri": "https://localhost:8080/"
        },
        "id": "YTTupdzJZJwo",
        "outputId": "8a01d944-81d1-4f11-9be9-3a8cb7808b8d"
      },
      "outputs": [
        {
          "name": "stdout",
          "output_type": "stream",
          "text": [
            "\u001b[1m\n",
            "Cantidad de valores que faltan ser completados:\n",
            " \n",
            "\u001b[0m Cantidad Comercial           0\n",
            "Código NCM                   0\n",
            "Descripción de Mercadería    0\n",
            "Estado                       0\n",
            "Fecha                        0\n",
            "Kgs. Brutos                  0\n",
            "Operación                    0\n",
            "País de Origen               0\n",
            "Puerto                       0\n",
            "U$S FOB                      0\n",
            "Unidad de Medida             0\n",
            "Unitario FOB                 0\n",
            "dtype: int64\n"
          ]
        }
      ],
      "source": [
        "# Se ordenan jerarquicamente, en caso de haber alguno, aparece primero.\n",
        "is_null_result = data.isnull().sum().sort_index()\n",
        "\n",
        "print(\"\\033[1m\" + \"\\nCantidad de valores que faltan ser completados:\\n \\n\" +\n",
        "      \"\\033[0m\", is_null_result)\n"
      ]
    },
    {
      "attachments": {},
      "cell_type": "markdown",
      "metadata": {
        "id": "SZbAcUYJZJwo"
      },
      "source": [
        "### La cantidad de campos que no fueron completados es porque se estan usando las palabras de relleno para indicar ausencia:\n",
        "\n",
        "> - No disponible\n",
        "> - NO DISPONIBLE\n",
        "> - S/M\n",
        "> - SIN MARCA\n",
        "> - Sin marca\n",
        "\n",
        "###### `regex_pattern = \"/[nNsS][oOiI|\\/](\\s|[nN]|[Mm])|([dD|MmaAiIsS])/g\"`\n",
        "\n",
        "##### Faltan 39 Marcas, y 14 Proveedores de 77. Estas dos columnas son a las que les faltan datos.\n"
      ]
    },
    {
      "attachments": {},
      "cell_type": "markdown",
      "metadata": {
        "id": "68JzUGWaZJwq"
      },
      "source": [
        "#### Armo una base de datos separada con las columnas que voy a usar, y descarto las que no. Descarto las importaciones que se hayan hecho por via de transporte aerea, o que tengan menos de 15 toneladas. Filtro los precios cuyo precio unitario sea mayor a $1200 U$S. Estandarizo el formato de la fecha, para poder realizar busquedas semestrales.\n"
      ]
    },
    {
      "cell_type": "code",
      "execution_count": 4,
      "metadata": {
        "colab": {
          "base_uri": "https://localhost:8080/",
          "height": 450
        },
        "id": "MU1qt1SlZJwr",
        "outputId": "cdd0b6cd-efa6-4cbb-cbe6-e541079e665b"
      },
      "outputs": [
        {
          "name": "stdout",
          "output_type": "stream",
          "text": [
            "\n",
            "El ultimo ano tiene (filas, cols):\n",
            "\n",
            " (147, 11) \n",
            "\n",
            "- - - - - - - - -\n",
            "\n"
          ]
        },
        {
          "data": {
            "text/html": [
              "<div>\n",
              "<style scoped>\n",
              "    .dataframe tbody tr th:only-of-type {\n",
              "        vertical-align: middle;\n",
              "    }\n",
              "\n",
              "    .dataframe tbody tr th {\n",
              "        vertical-align: top;\n",
              "    }\n",
              "\n",
              "    .dataframe thead th {\n",
              "        text-align: right;\n",
              "    }\n",
              "</style>\n",
              "<table border=\"1\" class=\"dataframe\">\n",
              "  <thead>\n",
              "    <tr style=\"text-align: right;\">\n",
              "      <th></th>\n",
              "      <th>Código NCM</th>\n",
              "      <th>Fecha</th>\n",
              "      <th>País de Origen</th>\n",
              "      <th>Puerto</th>\n",
              "      <th>Estado</th>\n",
              "      <th>Unitario FOB</th>\n",
              "      <th>U$S FOB</th>\n",
              "      <th>Cantidad Comercial</th>\n",
              "      <th>Unidad de Medida</th>\n",
              "      <th>Kgs. Brutos</th>\n",
              "      <th>Descripción de Mercadería</th>\n",
              "      <th>U$S Unitario</th>\n",
              "    </tr>\n",
              "  </thead>\n",
              "  <tbody>\n",
              "    <tr>\n",
              "      <th>39</th>\n",
              "      <td>2835.25.00</td>\n",
              "      <td>04/2022</td>\n",
              "      <td>China</td>\n",
              "      <td>SAO FRANCISCO DO SUL</td>\n",
              "      <td>SAO PAULO-SP</td>\n",
              "      <td>0.58</td>\n",
              "      <td>291727</td>\n",
              "      <td>500000</td>\n",
              "      <td>QUILOGRAMA LIQUIDO</td>\n",
              "      <td>500000</td>\n",
              "      <td>HIDROGENOORTOFOSFATO DE CALCIO O FOSFATO DICAL...</td>\n",
              "      <td>0.58</td>\n",
              "    </tr>\n",
              "    <tr>\n",
              "      <th>120</th>\n",
              "      <td>2835.25.00</td>\n",
              "      <td>09/2022</td>\n",
              "      <td>China</td>\n",
              "      <td>PARANAGUA</td>\n",
              "      <td>PARANA-PR</td>\n",
              "      <td>0.62</td>\n",
              "      <td>51737</td>\n",
              "      <td>84000</td>\n",
              "      <td>QUILOGRAMA LIQUIDO</td>\n",
              "      <td>84000</td>\n",
              "      <td>HIDROGENOORTOFOSFATO DE CALCIO O FOSFATO DICAL...</td>\n",
              "      <td>0.62</td>\n",
              "    </tr>\n",
              "    <tr>\n",
              "      <th>57</th>\n",
              "      <td>2835.25.00</td>\n",
              "      <td>05/2022</td>\n",
              "      <td>China</td>\n",
              "      <td>SAO FRANCISCO DO SUL</td>\n",
              "      <td>GOIAS-GO</td>\n",
              "      <td>0.38</td>\n",
              "      <td>113714</td>\n",
              "      <td>300000</td>\n",
              "      <td>QUILOGRAMA LIQUIDO</td>\n",
              "      <td>300000</td>\n",
              "      <td>HIDROGENOORTOFOSFATO DE CALCIO O FOSFATO DICAL...</td>\n",
              "      <td>0.38</td>\n",
              "    </tr>\n",
              "    <tr>\n",
              "      <th>18</th>\n",
              "      <td>2835.25.00</td>\n",
              "      <td>02/2022</td>\n",
              "      <td>Perú</td>\n",
              "      <td>ITAJAI</td>\n",
              "      <td>STA.CATARINA-SC</td>\n",
              "      <td>0.64</td>\n",
              "      <td>86581</td>\n",
              "      <td>135000</td>\n",
              "      <td>QUILOGRAMA LIQUIDO</td>\n",
              "      <td>135000</td>\n",
              "      <td>HIDROGENOORTOFOSFATO DE CALCIO O FOSFATO DICAL...</td>\n",
              "      <td>0.64</td>\n",
              "    </tr>\n",
              "    <tr>\n",
              "      <th>71</th>\n",
              "      <td>2835.25.00</td>\n",
              "      <td>06/2022</td>\n",
              "      <td>China</td>\n",
              "      <td>SAO FRANCISCO DO SUL</td>\n",
              "      <td>GOIAS-GO</td>\n",
              "      <td>0.47</td>\n",
              "      <td>284775</td>\n",
              "      <td>600000</td>\n",
              "      <td>QUILOGRAMA LIQUIDO</td>\n",
              "      <td>600000</td>\n",
              "      <td>HIDROGENOORTOFOSFATO DE CALCIO O FOSFATO DICAL...</td>\n",
              "      <td>0.47</td>\n",
              "    </tr>\n",
              "  </tbody>\n",
              "</table>\n",
              "</div>"
            ],
            "text/plain": [
              "     Código NCM    Fecha País de Origen                Puerto  \\\n",
              "39   2835.25.00  04/2022          China  SAO FRANCISCO DO SUL   \n",
              "120  2835.25.00  09/2022          China             PARANAGUA   \n",
              "57   2835.25.00  05/2022          China  SAO FRANCISCO DO SUL   \n",
              "18   2835.25.00  02/2022           Perú                ITAJAI   \n",
              "71   2835.25.00  06/2022          China  SAO FRANCISCO DO SUL   \n",
              "\n",
              "              Estado  Unitario FOB  U$S FOB  Cantidad Comercial  \\\n",
              "39      SAO PAULO-SP          0.58   291727              500000   \n",
              "120        PARANA-PR          0.62    51737               84000   \n",
              "57          GOIAS-GO          0.38   113714              300000   \n",
              "18   STA.CATARINA-SC          0.64    86581              135000   \n",
              "71          GOIAS-GO          0.47   284775              600000   \n",
              "\n",
              "       Unidad de Medida  Kgs. Brutos  \\\n",
              "39   QUILOGRAMA LIQUIDO       500000   \n",
              "120  QUILOGRAMA LIQUIDO        84000   \n",
              "57   QUILOGRAMA LIQUIDO       300000   \n",
              "18   QUILOGRAMA LIQUIDO       135000   \n",
              "71   QUILOGRAMA LIQUIDO       600000   \n",
              "\n",
              "                             Descripción de Mercadería  U$S Unitario  \n",
              "39   HIDROGENOORTOFOSFATO DE CALCIO O FOSFATO DICAL...          0.58  \n",
              "120  HIDROGENOORTOFOSFATO DE CALCIO O FOSFATO DICAL...          0.62  \n",
              "57   HIDROGENOORTOFOSFATO DE CALCIO O FOSFATO DICAL...          0.38  \n",
              "18   HIDROGENOORTOFOSFATO DE CALCIO O FOSFATO DICAL...          0.64  \n",
              "71   HIDROGENOORTOFOSFATO DE CALCIO O FOSFATO DICAL...          0.47  "
            ]
          },
          "execution_count": 4,
          "metadata": {},
          "output_type": "execute_result"
        }
      ],
      "source": [
        "df_new = data.loc[:, ['Código NCM', 'Fecha', 'País de Origen', 'Puerto', 'Estado', 'Unitario FOB', 'U$S FOB', 'Cantidad Comercial', 'Unidad de Medida',\n",
        "                      'Kgs. Brutos', 'Descripción de Mercadería']]\n",
        "\n",
        "# df_new.info()\n",
        "\n",
        "print(\"\\nEl ultimo ano tiene (filas, cols):\\n\\n\",\n",
        "      df_new.shape, '\\n\\n- - - - - - - - -\\n')\n",
        "\n",
        "# Se eliminan registros que vengan por aire\n",
        "# df_new.drop(df_new[df_new['Vía Transporte'] == 'AEREA'].index, inplace=True)\n",
        "\n",
        "df_new[\"U$S Unitario\"] = (df_new['U$S FOB'] /\n",
        "                          df_new['Kgs. Brutos']).round(2)\n",
        "\n",
        "df_new_filtered = df_new.loc[(df_new['U$S Unitario'] <= 1.0)]\n",
        "\n",
        "# df_new_filtered['Fecha'] = pd.to_datetime(df_new['Fecha'], format='%Y-%m-%d')\n",
        "\n",
        "# print(\n",
        "#     f\"> Todas las unidades de medida de cantidad comercial estan en kilos netos: {df_new['Unidad de Medida'].value_counts()}\\n\")\n",
        "\n",
        "df_new_filtered.sample(5)\n"
      ]
    },
    {
      "cell_type": "code",
      "execution_count": 5,
      "metadata": {},
      "outputs": [
        {
          "name": "stdout",
          "output_type": "stream",
          "text": [
            "U$S FOB:\n",
            "count    1.470000e+02\n",
            "mean     5.091500e+05\n",
            "std      9.538582e+05\n",
            "min      4.400000e+01\n",
            "25%      6.150450e+04\n",
            "50%      2.062810e+05\n",
            "75%      5.760405e+05\n",
            "max      6.574107e+06\n",
            "Name: U$S FOB, dtype: float64\n",
            "----------------------------\n",
            "U$S Unitario:\n",
            "count    147.000000\n",
            "mean       2.039592\n",
            "std        2.924319\n",
            "min        0.000000\n",
            "25%        0.635000\n",
            "50%        0.790000\n",
            "75%        2.380000\n",
            "max       22.000000\n",
            "Name: Unitario FOB, dtype: float64\n",
            "----------------------------\n",
            "U$S Unitario:\n",
            "count    100.000000\n",
            "mean       0.674700\n",
            "std        0.134506\n",
            "min        0.330000\n",
            "25%        0.597500\n",
            "50%        0.675000\n",
            "75%        0.790000\n",
            "max        0.910000\n",
            "Name: U$S Unitario, dtype: float64\n"
          ]
        }
      ],
      "source": [
        "# Evaluo la fluctuacion de los valores de U$S para ver si los filtros funcionan bien\n",
        "\n",
        "print(\n",
        "    f\"U$S FOB:\\n{df_new['U$S FOB'].describe()}\\n----------------------------\")\n",
        "# 200 dolares menos\n",
        "print(\n",
        "    f\"U$S Unitario:\\n{df_new['Unitario FOB'].describe()}\\n----------------------------\")\n",
        "print(f\"U$S Unitario:\\n{df_new_filtered['U$S Unitario'].describe()}\")\n"
      ]
    },
    {
      "cell_type": "markdown",
      "metadata": {
        "id": "mMyZ2ZbLZJwr"
      },
      "source": [
        "#### Sobre esa, armo otra base de datos separada para armar el analisis de venta en los ultimos 6 meses para Peru.\n"
      ]
    },
    {
      "cell_type": "code",
      "execution_count": 6,
      "metadata": {
        "id": "LB3H9mWsZJwt"
      },
      "outputs": [
        {
          "data": {
            "image/png": "[encoded data removed]",
            "text/plain": [
              "<Figure size 640x480 with 1 Axes>"
            ]
          },
          "metadata": {},
          "output_type": "display_data"
        }
      ],
      "source": [
        "df_new_filtered = df_new_filtered.sort_values(\n",
        "    'U$S Unitario', ascending=False)\n",
        "\n",
        "df_new_filtered.plot.line(x=\"U$S Unitario\", y=\"Kgs. Brutos\",\n",
        "                          title=\"Kilogramos netos y precio U$S Unitario de compra (ultimos 6 meses)\")\n",
        "\n",
        "df_new_filtered = df_new_filtered.sort_values(\n",
        "    'Kgs. Brutos', ascending=False)\n"
      ]
    },
    {
      "attachments": {},
      "cell_type": "markdown",
      "metadata": {
        "id": "lJAcmB5EZJwt"
      },
      "source": [
        "## Parte 2\n",
        "\n",
        "#### Desglose por compañia de las importaciones de los ultimos 6 meses. Este incluye:\n",
        "\n",
        "- Nombre de la compañia\n",
        "- Cantidad de importaciones\n",
        "- Proveedores, y cantidad de importaciones por proveedor\n",
        "- Precio promedio de compra por unidad en los ultimos 6 meses\n",
        "- Volumen total neto de compra en los ultimos 6 meses\n",
        "- Detalles de la ultima compra realizada\n"
      ]
    },
    {
      "cell_type": "code",
      "execution_count": 9,
      "metadata": {
        "id": "SSszS9fFZJwt"
      },
      "outputs": [
        {
          "data": {
            "text/html": [
              "<div>\n",
              "<style scoped>\n",
              "    .dataframe tbody tr th:only-of-type {\n",
              "        vertical-align: middle;\n",
              "    }\n",
              "\n",
              "    .dataframe tbody tr th {\n",
              "        vertical-align: top;\n",
              "    }\n",
              "\n",
              "    .dataframe thead th {\n",
              "        text-align: right;\n",
              "    }\n",
              "</style>\n",
              "<table border=\"1\" class=\"dataframe\">\n",
              "  <thead>\n",
              "    <tr style=\"text-align: right;\">\n",
              "      <th></th>\n",
              "      <th>NCM/NANDINA/SACH</th>\n",
              "      <th>Pais</th>\n",
              "      <th>Volumen Total Bruto (Tn)</th>\n",
              "      <th>No. Importaciones</th>\n",
              "      <th>Participacion en Vol. Total</th>\n",
              "      <th>Puertos</th>\n",
              "    </tr>\n",
              "  </thead>\n",
              "  <tbody>\n",
              "    <tr>\n",
              "      <th>0</th>\n",
              "      <td>283525</td>\n",
              "      <td>Perú</td>\n",
              "      <td>25339.45</td>\n",
              "      <td>30</td>\n",
              "      <td>33%</td>\n",
              "      <td>RIO DE JANEIRO, SAO FRANCISCO DO SUL, ASSIS BR...</td>\n",
              "    </tr>\n",
              "    <tr>\n",
              "      <th>1</th>\n",
              "      <td>283525</td>\n",
              "      <td>China</td>\n",
              "      <td>22854.75</td>\n",
              "      <td>40</td>\n",
              "      <td>29%</td>\n",
              "      <td>SAO FRANCISCO DO SUL, SANTOS, PARANAGUA, IMBIT...</td>\n",
              "    </tr>\n",
              "    <tr>\n",
              "      <th>2</th>\n",
              "      <td>283525</td>\n",
              "      <td>Marruecos</td>\n",
              "      <td>15536.31</td>\n",
              "      <td>3</td>\n",
              "      <td>20%</td>\n",
              "      <td>PARANAGUA, 0000</td>\n",
              "    </tr>\n",
              "    <tr>\n",
              "      <th>3</th>\n",
              "      <td>283525</td>\n",
              "      <td>Túnez</td>\n",
              "      <td>8485.00</td>\n",
              "      <td>10</td>\n",
              "      <td>11%</td>\n",
              "      <td>ITAJAI, RIO GRANDE</td>\n",
              "    </tr>\n",
              "    <tr>\n",
              "      <th>4</th>\n",
              "      <td>283525</td>\n",
              "      <td>España</td>\n",
              "      <td>5196.00</td>\n",
              "      <td>15</td>\n",
              "      <td>7%</td>\n",
              "      <td>ITAJAI, RIO GRANDE, PARANAGUA, SANTOS</td>\n",
              "    </tr>\n",
              "    <tr>\n",
              "      <th>5</th>\n",
              "      <td>283525</td>\n",
              "      <td>Turquía</td>\n",
              "      <td>240.00</td>\n",
              "      <td>1</td>\n",
              "      <td>0%</td>\n",
              "      <td>SANTOS</td>\n",
              "    </tr>\n",
              "    <tr>\n",
              "      <th>6</th>\n",
              "      <td>283525</td>\n",
              "      <td>Alemania</td>\n",
              "      <td>1.00</td>\n",
              "      <td>1</td>\n",
              "      <td>0%</td>\n",
              "      <td>RIO DE JANEIRO - AEROPORT</td>\n",
              "    </tr>\n",
              "  </tbody>\n",
              "</table>\n",
              "</div>"
            ],
            "text/plain": [
              "   NCM/NANDINA/SACH       Pais  Volumen Total Bruto (Tn)  No. Importaciones  \\\n",
              "0            283525       Perú                  25339.45                 30   \n",
              "1            283525      China                  22854.75                 40   \n",
              "2            283525  Marruecos                  15536.31                  3   \n",
              "3            283525      Túnez                   8485.00                 10   \n",
              "4            283525     España                   5196.00                 15   \n",
              "5            283525    Turquía                    240.00                  1   \n",
              "6            283525   Alemania                      1.00                  1   \n",
              "\n",
              "  Participacion en Vol. Total  \\\n",
              "0                         33%   \n",
              "1                         29%   \n",
              "2                         20%   \n",
              "3                         11%   \n",
              "4                          7%   \n",
              "5                          0%   \n",
              "6                          0%   \n",
              "\n",
              "                                             Puertos  \n",
              "0  RIO DE JANEIRO, SAO FRANCISCO DO SUL, ASSIS BR...  \n",
              "1  SAO FRANCISCO DO SUL, SANTOS, PARANAGUA, IMBIT...  \n",
              "2                                    PARANAGUA, 0000  \n",
              "3                                 ITAJAI, RIO GRANDE  \n",
              "4              ITAJAI, RIO GRANDE, PARANAGUA, SANTOS  \n",
              "5                                             SANTOS  \n",
              "6                          RIO DE JANEIRO - AEROPORT  "
            ]
          },
          "execution_count": 9,
          "metadata": {},
          "output_type": "execute_result"
        }
      ],
      "source": [
        "# FX DEVUELVE DETALLES DE IMPORTADOR\n",
        "\n",
        "def analisis_origenes_brasil():\n",
        "    global registro_volumen\n",
        "    global volumenTotalImportacionTn\n",
        "\n",
        "    registro_volumen = {\n",
        "        \"NCM/NANDINA/SACH\": [],\n",
        "        \"Pais\": [],\n",
        "        \"No. Importaciones\": [],\n",
        "        \"Volumen Total Bruto (Tn)\": [],\n",
        "        \"Participacion en Vol. Total\": [],\n",
        "        \"Puertos\": []\n",
        "    }\n",
        "\n",
        "    volumenTotalImportacionTn = (\n",
        "        df_new_filtered['Kgs. Brutos'].sum()/1000).round(2)\n",
        "\n",
        "    for pais in df_new_filtered['País de Origen'].unique():\n",
        "\n",
        "        data = df_new_filtered[df_new_filtered['País de Origen'] == f\"{pais}\"]\n",
        "        volumenTotalCompania = (data['Kgs. Brutos'].sum()/1000).round(2)\n",
        "\n",
        "        registro_volumen['NCM/NANDINA/SACH'].append(283525)\n",
        "        registro_volumen['Pais'].append(pais)\n",
        "        registro_volumen['No. Importaciones'].append(len(data))\n",
        "        registro_volumen['Volumen Total Bruto (Tn)'].append(\n",
        "            (data['Kgs. Brutos'].sum()/1000).round(2))\n",
        "        registro_volumen['Participacion en Vol. Total'].append(\n",
        "            f\"{round(( volumenTotalCompania / volumenTotalImportacionTn) *100)}%\")\n",
        "        registro_volumen['Puertos'].append(\n",
        "            ', '.join(data['Puerto'].value_counts().to_dict()))\n",
        "\n",
        "\n",
        "analisis_origenes_brasil()\n",
        "\n",
        "excel_new_data = pd.DataFrame.from_records(\n",
        "    registro_volumen).sort_values('Volumen Total Bruto (Tn)', ascending=False).reset_index(drop=True)\n",
        "\n",
        "excel_new_data = excel_new_data[['NCM/NANDINA/SACH', 'Pais',\n",
        "                                 'Volumen Total Bruto (Tn)', 'No. Importaciones', \"Participacion en Vol. Total\", \"Puertos\"]]\n",
        "\n",
        "excel_new_data\n"
      ]
    },
    {
      "cell_type": "code",
      "execution_count": 10,
      "metadata": {},
      "outputs": [
        {
          "name": "stdout",
          "output_type": "stream",
          "text": [
            "\u001b[1m> Las hojas del excel actualmente son:\u001b[0m\n",
            " [<Worksheet 'Hoja 1' id:0>]\n",
            "- - - - - - - - - -\n",
            "\n",
            "Spreadsheet doesn't exist: Creating the new worksheet...\n",
            "- - - - - - - - - -\n",
            "\n",
            "> Spreadsheet created.\n",
            "- - - - - - - - - -\n",
            "\n"
          ]
        }
      ],
      "source": [
        "import os\n",
        "import json\n",
        "import gspread as gs\n",
        "\n",
        "CURRENT_WD = os.getcwd()\n",
        "COUNTRY_WD = (os.path.basename(CURRENT_WD).split('/')[-1]).upper()\n",
        "CREDENTIALS = '../credentials.json'\n",
        "\n",
        "# gc = gs.oauth(credentials_filename=CREDENTIALS)\n",
        "gc = gs.service_account(filename='../service-credentials.json')\n",
        "\n",
        "sh = gc.open('Brasil2022')\n",
        "\n",
        "worksheet_list = sh.worksheets()\n",
        "\n",
        "print(\n",
        "    f\"\\033[1m> Las hojas del excel actualmente son:\\033[0m\\n {worksheet_list}\\n- - - - - - - - - -\\n\")\n",
        "\n",
        "# try:\n",
        "#     ws = sh.worksheet(f'{COUNTRY_WD}')\n",
        "#     # Code if spreadsheet exists:\n",
        "#     print(\"Spreadsheet exists: Modifying existing working sheet...\\n- - - - - - - - - -\\n\")\n",
        "#     # ws.clear()\n",
        "#     df_values = excel_new_data.values.tolist()\n",
        "#     sh.values_append(f'{COUNTRY_WD}', {'valueInputOption': 'RAW'}, {\n",
        "#                      'values': df_values})\n",
        "#     print(\"> Spreadsheet modified.\\n- - - - - - - - - -\\n\")\n",
        "# except gs.exceptions.WorksheetNotFound:\n",
        "#     # Code if spreadsheet doesn't exist:\n",
        "#     print(\"Spreadsheet doesn't exist: Creating the new worksheet...\\n- - - - - - - - - -\\n\")\n",
        "#     sh.add_worksheet(title=f\"{COUNTRY_WD}\", rows=100, cols=20)\n",
        "#     ws = sh.worksheet(f'{COUNTRY_WD}')\n",
        "#     ws.update([excel_new_data.columns.values.tolist()] +\n",
        "#               excel_new_data.values.tolist())\n",
        "#     print(\"> Spreadsheet created.\\n- - - - - - - - - -\\n\")\n"
      ]
    }
  ],
  "metadata": {
    "colab": {
      "provenance": []
    },
    "kernelspec": {
      "display_name": "Python 3",
      "language": "python",
      "name": "python3"
    },
    "language_info": {
      "codemirror_mode": {
        "name": "ipython",
        "version": 3
      },
      "file_extension": ".py",
      "mimetype": "text/x-python",
      "name": "python",
      "nbconvert_exporter": "python",
      "pygments_lexer": "ipython3",
      "version": "3.9.6"
    },
    "orig_nbformat": 4,
    "vscode": {
      "interpreter": {
        "hash": "31f2aee4e71d21fbe5cf8b01ff0e069b9275f58929596ceb00d14d90e3e16cd6"
      }
    }
  },
  "nbformat": 4,
  "nbformat_minor": 0
}
