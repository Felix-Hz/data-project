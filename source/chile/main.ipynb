{
 "cells": [
  {
   "attachments": {},
   "cell_type": "markdown",
   "metadata": {},
   "source": [
    "# Chile\n"
   ]
  },
  {
   "cell_type": "code",
   "execution_count": null,
   "metadata": {},
   "outputs": [],
   "source": [
    "import sys\n",
    "import warnings\n",
    "import pandas as pd\n",
    "\n",
    "sys.path.append('../../')\n",
    "\n",
    "from utils.data_anual import annual_data\n",
    "from utils.clean_imports import wrangling\n",
    "from utils.top_imports import top_importadores\n",
    "from general_utils.export_api import export_API\n",
    "from utils.vol_origenes import analisis_origenes\n",
    "from utils.clean_historical import wrangling_historical_data\n",
    "\n",
    "pd.options.display.max_rows = None\n",
    "pd.options.display.max_columns = None\n",
    "pd.options.display.max_colwidth = None\n",
    "\n",
    "warnings.simplefilter(\"ignore\")\n",
    "\n",
    "### ~~~ ###\n",
    "###     PATH     ###\n",
    "### ~~~ ###\n",
    "\n",
    "location_2013 = \"./data/283525_Importaciones_2013.xlsx\"\n",
    "location_2014 = \"./data/283525_Importaciones_2014.xlsx\"\n",
    "location_2015 = \"./data/283525_Importaciones_2015.xlsx\"\n",
    "location_2016 = \"./data/283525_Importaciones_2016.xlsx\"\n",
    "location_2017 = \"./data/283525_Importaciones_2017.xlsx\"\n",
    "location_2018 = \"./data/283525_Importaciones_2018.xlsx\"\n",
    "location_2019 = \"./data/283525_Importaciones_2019.xlsx\"\n",
    "location_2020 = \"./data/283525_Importaciones_2020.xlsx\"\n",
    "location_2021 = \"./data/283525_Importaciones_2021.xlsx\"\n",
    "location_2022 = \"./data/283525_Importaciones_2022.xlsx\"\n",
    "location_2023 = \"./data/283525_Importaciones_2023.xlsx\"\n",
    "\n",
    "### ~~~ ###\n",
    "###     DATA     ###\n",
    "### ~~~ ###\n",
    "\n",
    "data2013 = pd.read_excel(location_2013, engine=\"openpyxl\")\n",
    "data2014 = pd.read_excel(location_2014, engine=\"openpyxl\")\n",
    "data2015 = pd.read_excel(location_2015, engine=\"openpyxl\")\n",
    "data2016 = pd.read_excel(location_2016, engine=\"openpyxl\")\n",
    "data2017 = pd.read_excel(location_2017, engine=\"openpyxl\")\n",
    "data2018 = pd.read_excel(location_2018, engine=\"openpyxl\")\n",
    "data2019 = pd.read_excel(location_2019, engine=\"openpyxl\")\n",
    "data2020 = pd.read_excel(location_2020, engine=\"openpyxl\")\n",
    "data2021 = pd.read_excel(location_2021, engine=\"openpyxl\")\n",
    "data2022 = pd.read_excel(location_2022, engine=\"openpyxl\")\n",
    "data2023 = pd.read_excel(location_2023, engine=\"openpyxl\")\n"
   ]
  },
  {
   "cell_type": "code",
   "execution_count": null,
   "metadata": {},
   "outputs": [],
   "source": [
    "# MERGE\n",
    "dfs = [data2013, data2014, data2015, data2016, data2017,\n",
    "       data2018, data2019, data2020, data2021, data2022, data2023]\n",
    "\n",
    "print(\"Este df tiene (filas, col):\\n___________________\")\n",
    "\n",
    "for df in dfs:\n",
    "    print(f\"> {df['Fecha'][0].year}: {df.shape}\\n~~~~~~~~~~~~~~~~~~~\")\n"
   ]
  },
  {
   "cell_type": "code",
   "execution_count": null,
   "metadata": {},
   "outputs": [],
   "source": [
    "# cols = [col for col in data2013.columns]\n",
    "# cols\n"
   ]
  },
  {
   "cell_type": "code",
   "execution_count": null,
   "metadata": {},
   "outputs": [],
   "source": [
    "results_dfs = wrangling(dfs)\n"
   ]
  },
  {
   "cell_type": "code",
   "execution_count": null,
   "metadata": {},
   "outputs": [],
   "source": [
    "print(\"> Estadísticos del precio en el año per ton:\\n___________________\")\n",
    "\n",
    "last_iterated_year = None\n",
    "\n",
    "for df in results_dfs:\n",
    "    if df is None or df.empty:\n",
    "        print(\n",
    "            f\"<!!!> No data available for {last_iterated_year+1}\\n~~~~~~~~~~~~~~~~~~~\")\n",
    "    else:\n",
    "        year = df['Fecha'].iloc[0].year\n",
    "        print(\n",
    "            f\"- En el {year}:\\n{df['U$S Unitario'].describe()}\\n~~~~~~~~~~~~~~~~~~~\")\n",
    "        last_iterated_year = year\n"
   ]
  },
  {
   "cell_type": "code",
   "execution_count": null,
   "metadata": {},
   "outputs": [],
   "source": [
    "annual_total_volume = annual_data(results_dfs)\n",
    "annual_total_volume\n"
   ]
  },
  {
   "cell_type": "code",
   "execution_count": null,
   "metadata": {},
   "outputs": [],
   "source": [
    "top_importadores = top_importadores(results_dfs)\n",
    "top_importadores\n"
   ]
  },
  {
   "cell_type": "code",
   "execution_count": null,
   "metadata": {},
   "outputs": [],
   "source": [
    "participacion_origenes = analisis_origenes(results_dfs)\n",
    "participacion_origenes\n"
   ]
  },
  {
   "cell_type": "code",
   "execution_count": null,
   "metadata": {},
   "outputs": [],
   "source": [
    "targets = [\"ALIMENTOS AGROSUPER LTDA.\", \"AGRICOLA SUPER LIMITADA\"]\n",
    "analisis_precios = price_analysis(results_dfs, targets)\n",
    "analisis_precios\n"
   ]
  },
  {
   "cell_type": "code",
   "execution_count": null,
   "metadata": {},
   "outputs": [],
   "source": [
    "# EXPORT TO PICKLE\n",
    "CURRENT_WD = os.getcwd()\n",
    "COUNTRY_WD = os.path.basename(CURRENT_WD).split('/')[-1]\n",
    "\n",
    "# df_final.to_pickle(f'{COUNTRY_WD}.pkl')\n"
   ]
  }
 ],
 "metadata": {
  "kernelspec": {
   "display_name": "venv",
   "language": "python",
   "name": "python3"
  },
  "language_info": {
   "codemirror_mode": {
    "name": "ipython",
    "version": 3
   },
   "file_extension": ".py",
   "mimetype": "text/x-python",
   "name": "python",
   "nbconvert_exporter": "python",
   "pygments_lexer": "ipython3",
   "version": "3.9.6"
  },
  "orig_nbformat": 4
 },
 "nbformat": 4,
 "nbformat_minor": 2
}
