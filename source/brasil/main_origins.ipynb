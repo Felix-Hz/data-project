{
 "cells": [
  {
   "attachments": {},
   "cell_type": "markdown",
   "metadata": {},
   "source": [
    "# Brasil"
   ]
  },
  {
   "cell_type": "code",
   "execution_count": 1,
   "metadata": {},
   "outputs": [],
   "source": [
    "import sys\n",
    "import warnings\n",
    "import pandas as pd\n",
    "\n",
    "sys.path.append('../../')\n",
    "\n",
    "from utils.origin.data_anual import annual_data\n",
    "from general_utils.export_api import export_API\n",
    "from utils.origin.top_imports import top_importadores\n",
    "from general_utils.compare_columns import compare_cols\n",
    "from utils.origin.vol_origenes import analisis_origenes\n",
    "\n",
    "pd.options.display.max_rows = None\n",
    "pd.options.display.max_columns = None\n",
    "pd.options.display.max_colwidth = None\n",
    "\n",
    "warnings.simplefilter(\"ignore\")\n",
    "\n",
    "                    ### ~~~ ###\n",
    "                ###     PATH     ###\n",
    "                    ### ~~~ ###\n",
    "\n",
    "location_2013 = \"./data/softrade/283525/283525_Importaciones_2013.xlsx\"\n",
    "location_2014 = \"./data/softrade/283525/283525_Importaciones_2014.xlsx\"\n",
    "location_2015 = \"./data/softrade/283525/283525_Importaciones_2015.xlsx\"\n",
    "location_2016 = \"./data/softrade/283525/283525_Importaciones_2016.xlsx\"\n",
    "location_2017 = \"./data/softrade/283525/283525_Importaciones_2017.xlsx\"\n",
    "location_2018 = \"./data/softrade/283525/283525_Importaciones_2018.xlsx\"\n",
    "location_2019 = \"./data/softrade/283525/283525_Importaciones_2019.xlsx\"\n",
    "location_2020 = \"./data/softrade/283525/283525_Importaciones_2020.xlsx\"\n",
    "location_2021 = \"./data/softrade/283525/283525_Importaciones_2021.xlsx\"\n",
    "location_2022 = \"./data/softrade/283525/283525_Importaciones_2022.xlsx\"\n",
    "location_2023 = \"./data/softrade/283525/283525_Importaciones_2023.xlsx\"\n",
    "\n",
    "location_26_2013 = \"./data/softrade/283526/283526_Importaciones_2013.xlsx\"\n",
    "location_26_2014 = \"./data/softrade/283526/283526_Importaciones_2014.xlsx\"\n",
    "location_26_2015 = \"./data/softrade/283526/283526_Importaciones_2015.xlsx\"\n",
    "location_26_2016 = \"./data/softrade/283526/283526_Importaciones_2016.xlsx\"\n",
    "location_26_2017 = \"./data/softrade/283526/283526_Importaciones_2017.xlsx\"\n",
    "location_26_2018 = \"./data/softrade/283526/283526_Importaciones_2018.xlsx\"\n",
    "location_26_2019 = \"./data/softrade/283526/283526_Importaciones_2019.xlsx\"\n",
    "location_26_2020 = \"./data/softrade/283526/283526_Importaciones_2020.xlsx\"\n",
    "location_26_2021 = \"./data/softrade/283526/283526_Importaciones_2021.xlsx\"\n",
    "location_26_2022 = \"./data/softrade/283526/283526_Importaciones_2022.xlsx\"\n",
    "location_26_2023 = \"./data/softrade/283526/283526_Importaciones_2023.xlsx\"\n",
    "\n",
    "location_3104_2013 = \"./data/softrade/310430/310430_Importaciones_2013.xlsx\"\n",
    "location_3104_2014 = \"./data/softrade/310430/310430_Importaciones_2014.xlsx\"\n",
    "location_3104_2015 = \"./data/softrade/310430/310430_Importaciones_2015.xlsx\"\n",
    "location_3104_2016 = \"./data/softrade/310430/310430_Importaciones_2016.xlsx\"\n",
    "location_3104_2017 = \"./data/softrade/310430/310430_Importaciones_2017.xlsx\"\n",
    "location_3104_2018 = \"./data/softrade/310430/310430_Importaciones_2018.xlsx\"\n",
    "location_3104_2019 = \"./data/softrade/310430/310430_Importaciones_2019.xlsx\"\n",
    "location_3104_2020 = \"./data/softrade/310430/310430_Importaciones_2020.xlsx\"\n",
    "location_3104_2021 = \"./data/softrade/310430/310430_Importaciones_2021.xlsx\"\n",
    "location_3104_2022 = \"./data/softrade/310430/310430_Importaciones_2022.xlsx\"\n",
    "location_3104_2023 = \"./data/softrade/310430/310430_Importaciones_2023.xlsx\"\n",
    "\n",
    "                    ### ~~~ ###\n",
    "                ###     DATA     ###\n",
    "                    ### ~~~ ###\n",
    "\n",
    "data2013 = pd.read_excel(location_2013, engine=\"openpyxl\")\n",
    "data2014 = pd.read_excel(location_2014, engine=\"openpyxl\")\n",
    "data2015 = pd.read_excel(location_2015, engine=\"openpyxl\")\n",
    "data2016 = pd.read_excel(location_2016, engine=\"openpyxl\")\n",
    "data2017 = pd.read_excel(location_2017, engine=\"openpyxl\")\n",
    "data2018 = pd.read_excel(location_2018, engine=\"openpyxl\")\n",
    "data2019 = pd.read_excel(location_2019, engine=\"openpyxl\")\n",
    "data2020 = pd.read_excel(location_2020, engine=\"openpyxl\")\n",
    "data2021 = pd.read_excel(location_2021, engine=\"openpyxl\")\n",
    "data2022 = pd.read_excel(location_2022, engine=\"openpyxl\")\n",
    "data2023 = pd.read_excel(location_2023, engine=\"openpyxl\")\n",
    "\n",
    "data_26_2013 = pd.read_excel(location_26_2013, engine=\"openpyxl\")\n",
    "data_26_2014 = pd.read_excel(location_26_2014, engine=\"openpyxl\")\n",
    "data_26_2015 = pd.read_excel(location_26_2015, engine=\"openpyxl\")\n",
    "data_26_2016 = pd.read_excel(location_26_2016, engine=\"openpyxl\")\n",
    "data_26_2017 = pd.read_excel(location_26_2017, engine=\"openpyxl\")\n",
    "data_26_2018 = pd.read_excel(location_26_2018, engine=\"openpyxl\")\n",
    "data_26_2019 = pd.read_excel(location_26_2019, engine=\"openpyxl\")\n",
    "data_26_2020 = pd.read_excel(location_26_2020, engine=\"openpyxl\")\n",
    "data_26_2021 = pd.read_excel(location_26_2021, engine=\"openpyxl\")\n",
    "data_26_2022 = pd.read_excel(location_26_2022, engine=\"openpyxl\")\n",
    "data_26_2023 = pd.read_excel(location_26_2023, engine=\"openpyxl\")\n",
    "\n",
    "data2013_3104 = pd.read_excel(location_3104_2013, engine=\"openpyxl\")\n",
    "data2014_3104 = pd.read_excel(location_3104_2014, engine=\"openpyxl\")\n",
    "data2015_3104 = pd.read_excel(location_3104_2015, engine=\"openpyxl\")\n",
    "data2016_3104 = pd.read_excel(location_3104_2016, engine=\"openpyxl\")\n",
    "data2017_3104 = pd.read_excel(location_3104_2017, engine=\"openpyxl\")\n",
    "data2018_3104 = pd.read_excel(location_3104_2018, engine=\"openpyxl\")\n",
    "data2019_3104 = pd.read_excel(location_3104_2019, engine=\"openpyxl\")\n",
    "data2020_3104 = pd.read_excel(location_3104_2020, engine=\"openpyxl\")\n",
    "data2021_3104 = pd.read_excel(location_3104_2021, engine=\"openpyxl\")\n",
    "data2022_3104 = pd.read_excel(location_3104_2022, engine=\"openpyxl\")\n",
    "data2023_3104 = pd.read_excel(location_3104_2023, engine=\"openpyxl\")"
   ]
  },
  {
   "cell_type": "code",
   "execution_count": 2,
   "metadata": {},
   "outputs": [
    {
     "data": {
      "text/plain": [
       "['Operación',\n",
       " 'Fecha',\n",
       " 'Código NCM',\n",
       " 'País de Origen',\n",
       " 'Puerto',\n",
       " 'Estado',\n",
       " 'Unitario FOB',\n",
       " 'U$S FOB',\n",
       " 'Cantidad Comercial',\n",
       " 'Unidad de Medida',\n",
       " 'Kgs. Brutos',\n",
       " 'Descripción de Mercadería']"
      ]
     },
     "execution_count": 2,
     "metadata": {},
     "output_type": "execute_result"
    }
   ],
   "source": [
    "col = [col for col in data2013.columns]\n",
    "col\n"
   ]
  },
  {
   "cell_type": "code",
   "execution_count": 3,
   "metadata": {},
   "outputs": [
    {
     "name": "stdout",
     "output_type": "stream",
     "text": [
      "Este df tiene (filas, col):\n",
      "___________________\n",
      "> 2013 (2835.25.00): (43, 12)\n",
      "~~~~~~~~~~~~~~~~~~~\n",
      "> 2014 (2835.25.00): (80, 12)\n",
      "~~~~~~~~~~~~~~~~~~~\n",
      "> 2015 (2835.25.00): (82, 12)\n",
      "~~~~~~~~~~~~~~~~~~~\n",
      "> 2016 (2835.25.00): (94, 12)\n",
      "~~~~~~~~~~~~~~~~~~~\n",
      "> 2017 (2835.25.00): (138, 12)\n",
      "~~~~~~~~~~~~~~~~~~~\n",
      "> 2018 (2835.25.00): (141, 12)\n",
      "~~~~~~~~~~~~~~~~~~~\n",
      "> 2019 (2835.25.00): (135, 12)\n",
      "~~~~~~~~~~~~~~~~~~~\n",
      "> 2020 (2835.25.00): (134, 12)\n",
      "~~~~~~~~~~~~~~~~~~~\n",
      "> 2021 (2835.25.00): (167, 12)\n",
      "~~~~~~~~~~~~~~~~~~~\n",
      "> 2022 (2835.25.00): (147, 12)\n",
      "~~~~~~~~~~~~~~~~~~~\n",
      "> 2023 (2835.25.00): (12, 12)\n",
      "~~~~~~~~~~~~~~~~~~~\n",
      "> 2013 (2835.26.00): (134, 12)\n",
      "~~~~~~~~~~~~~~~~~~~\n",
      "> 2014 (2835.26.00): (132, 12)\n",
      "~~~~~~~~~~~~~~~~~~~\n",
      "> 2015 (2835.26.00): (111, 12)\n",
      "~~~~~~~~~~~~~~~~~~~\n",
      "> 2016 (2835.26.00): (109, 12)\n",
      "~~~~~~~~~~~~~~~~~~~\n",
      "> 2017 (2835.26.00): (130, 12)\n",
      "~~~~~~~~~~~~~~~~~~~\n",
      "> 2018 (2835.26.00): (151, 12)\n",
      "~~~~~~~~~~~~~~~~~~~\n",
      "> 2019 (2835.26.00): (162, 12)\n",
      "~~~~~~~~~~~~~~~~~~~\n",
      "> 2020 (2835.26.00): (174, 12)\n",
      "~~~~~~~~~~~~~~~~~~~\n",
      "> 2021 (2835.26.00): (177, 12)\n",
      "~~~~~~~~~~~~~~~~~~~\n",
      "> 2022 (2835.26.00): (161, 12)\n",
      "~~~~~~~~~~~~~~~~~~~\n",
      "> 2023 (2835.26.00): (23, 12)\n",
      "~~~~~~~~~~~~~~~~~~~\n",
      "> 2013 (3104.30.10): (129, 12)\n",
      "~~~~~~~~~~~~~~~~~~~\n",
      "> 2014 (3104.30.10): (146, 12)\n",
      "~~~~~~~~~~~~~~~~~~~\n",
      "> 2015 (3104.30.10): (151, 12)\n",
      "~~~~~~~~~~~~~~~~~~~\n",
      "> 2016 (3104.30.10): (126, 12)\n",
      "~~~~~~~~~~~~~~~~~~~\n",
      "> 2017 (3104.30.10): (155, 12)\n",
      "~~~~~~~~~~~~~~~~~~~\n",
      "> 2018 (3104.30.10): (102, 12)\n",
      "~~~~~~~~~~~~~~~~~~~\n",
      "> 2019 (3104.30.10): (126, 12)\n",
      "~~~~~~~~~~~~~~~~~~~\n",
      "> 2020 (3104.30.10): (129, 12)\n",
      "~~~~~~~~~~~~~~~~~~~\n",
      "> 2021 (3104.30.10): (173, 12)\n",
      "~~~~~~~~~~~~~~~~~~~\n",
      "> 2022 (3104.30.10): (131, 12)\n",
      "~~~~~~~~~~~~~~~~~~~\n",
      "> 2023 (3104.30.10): (7, 12)\n",
      "~~~~~~~~~~~~~~~~~~~\n"
     ]
    }
   ],
   "source": [
    "# MERGE\n",
    "dfs = [data2013, data2014, data2015, data2016, data2017, data2018, data2019, data2020, data2021, data2022, data2023, data_26_2013, data_26_2014,\n",
    "       data_26_2015, data_26_2016, data_26_2017, data_26_2018, data_26_2019, data_26_2020, data_26_2021, data_26_2022, data_26_2023, data2013_3104,\n",
    "       data2014_3104, data2015_3104, data2016_3104, data2017_3104, data2018_3104, data2019_3104, data2020_3104, data2021_3104, data2022_3104, data2023_3104]\n",
    "\n",
    "print(\"Este df tiene (filas, col):\\n___________________\")\n",
    "\n",
    "for df in dfs:\n",
    "    print(\n",
    "        f\"> {df['Fecha'].iloc[0][3:]} ({df['Código NCM'].iloc[0]}): {df.shape}\\n~~~~~~~~~~~~~~~~~~~\")\n"
   ]
  },
  {
   "cell_type": "code",
   "execution_count": 9,
   "metadata": {},
   "outputs": [
    {
     "name": "stdout",
     "output_type": "stream",
     "text": [
      "> The dataframes have the same columns.\n",
      "\n",
      "\n"
     ]
    }
   ],
   "source": [
    "diff_cols = compare_cols(dfs)\n"
   ]
  },
  {
   "cell_type": "code",
   "execution_count": 4,
   "metadata": {},
   "outputs": [],
   "source": [
    "# annual_data = annual_data(results_dfs)\n",
    "# # export_API(annual_data)\n",
    "# annual_data\n"
   ]
  },
  {
   "cell_type": "code",
   "execution_count": 5,
   "metadata": {},
   "outputs": [],
   "source": [
    "# analisis_origenes = analisis_origenes(dfs)\n",
    "# # export_API(analisis_origenes)\n",
    "# analisis_origenes"
   ]
  },
  {
   "cell_type": "code",
   "execution_count": null,
   "metadata": {},
   "outputs": [],
   "source": []
  }
 ],
 "metadata": {
  "kernelspec": {
   "display_name": "venv",
   "language": "python",
   "name": "python3"
  },
  "language_info": {
   "codemirror_mode": {
    "name": "ipython",
    "version": 3
   },
   "file_extension": ".py",
   "mimetype": "text/x-python",
   "name": "python",
   "nbconvert_exporter": "python",
   "pygments_lexer": "ipython3",
   "version": "3.9.6"
  },
  "orig_nbformat": 4
 },
 "nbformat": 4,
 "nbformat_minor": 2
}
