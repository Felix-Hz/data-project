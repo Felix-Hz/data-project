{
  "cells": [
    {
      "attachments": {},
      "cell_type": "markdown",
      "metadata": {
        "id": "aXlKyqj4ZJwi"
      },
      "source": [
        "# **Chile** - 283525\n",
        "\n",
        "### Analisis de datos de las importaciones del ultimo año, con especial enfasis en los ultimos 6 meses.\n",
        "\n",
        "> Esto es un analisis exploratorio inicial del de las Importaciones de Argentina (01/2022 - 12/2022). Los datos fueron extraidos de Softrade el 20/01/2022 a las 18:00 hs. \n",
        "\n",
        "- - - - - - - - - - - - - - - - - - - - - - - - - - - - - - - - - - - - - ***\n"
      ]
    },
    {
      "cell_type": "markdown",
      "metadata": {
        "id": "pFYenBIIZJwl"
      },
      "source": [
        "## Parte 1\n",
        "\n",
        "#### Esto de abajo es una celda de codigo, que muestra el output abajo. Por ejemplo, aca levanto la bbdd e imprimo las primeras 5 columnas para ver si se cargo o no. Despues muestro informacion basica del \"dataframe\", que tiene X filas e Y columnas. \n"
      ]
    },
    {
      "cell_type": "code",
      "execution_count": 1,
      "metadata": {
        "colab": {
          "base_uri": "https://localhost:8080/"
        },
        "id": "X3j-wB20ZJwm",
        "outputId": "c3fe2458-59a1-40d4-b11b-4951dd038ad0"
      },
      "outputs": [
        {
          "name": "stdout",
          "output_type": "stream",
          "text": [
            "Este dataframe tiene (filas, col): \n",
            " (234, 37) \n",
            " - - - - - - - - - -\n"
          ]
        },
        {
          "data": {
            "text/html": [
              "<div>\n",
              "<style scoped>\n",
              "    .dataframe tbody tr th:only-of-type {\n",
              "        vertical-align: middle;\n",
              "    }\n",
              "\n",
              "    .dataframe tbody tr th {\n",
              "        vertical-align: top;\n",
              "    }\n",
              "\n",
              "    .dataframe thead th {\n",
              "        text-align: right;\n",
              "    }\n",
              "</style>\n",
              "<table border=\"1\" class=\"dataframe\">\n",
              "  <thead>\n",
              "    <tr style=\"text-align: right;\">\n",
              "      <th></th>\n",
              "      <th>DUA</th>\n",
              "      <th>item</th>\n",
              "      <th>Fecha</th>\n",
              "      <th>Código SACH</th>\n",
              "      <th>Importador</th>\n",
              "      <th>RUT</th>\n",
              "      <th>Aduana</th>\n",
              "      <th>Vía Transporte</th>\n",
              "      <th>País de Origen</th>\n",
              "      <th>País de Adquisición</th>\n",
              "      <th>FOB Unitario U$S</th>\n",
              "      <th>FOB U$S</th>\n",
              "      <th>Flete U$S</th>\n",
              "      <th>Seguro U$S</th>\n",
              "      <th>U$S CIF</th>\n",
              "      <th>U$S Unitario</th>\n",
              "      <th>Cantidad Comercial</th>\n",
              "      <th>Unidad de Medida</th>\n",
              "      <th>Kgs. Brutos</th>\n",
              "      <th>Valor ADV.</th>\n",
              "      <th>% ADV.</th>\n",
              "      <th>Acuerdo ALADI</th>\n",
              "      <th>Mercadería</th>\n",
              "      <th>Variedad</th>\n",
              "      <th>Marca</th>\n",
              "      <th>Descripción de Mercadería</th>\n",
              "      <th>Observaciones</th>\n",
              "      <th>Transportista</th>\n",
              "      <th>Bandera - Nave</th>\n",
              "      <th>Puerto de Embarque</th>\n",
              "      <th>Puerto de Desembarque</th>\n",
              "      <th>Bultos</th>\n",
              "      <th>Tipo de Bulto</th>\n",
              "      <th>Manifiesto</th>\n",
              "      <th>Fecha Manifiesto</th>\n",
              "      <th>Documento de Transporte</th>\n",
              "      <th>Fec.D.T.</th>\n",
              "    </tr>\n",
              "  </thead>\n",
              "  <tbody>\n",
              "    <tr>\n",
              "      <th>17</th>\n",
              "      <td>101217</td>\n",
              "      <td>2</td>\n",
              "      <td>2022-02-08</td>\n",
              "      <td>28352500</td>\n",
              "      <td>IMPORTADORA Y DISTRIBUIDORA BL</td>\n",
              "      <td>82705900-5</td>\n",
              "      <td>SAN ANTONIO</td>\n",
              "      <td>MARITIMO</td>\n",
              "      <td>Alemania</td>\n",
              "      <td>Alemania</td>\n",
              "      <td>2.15</td>\n",
              "      <td>36514.07</td>\n",
              "      <td>2710.56</td>\n",
              "      <td>75.36</td>\n",
              "      <td>39300.0</td>\n",
              "      <td>2.31</td>\n",
              "      <td>17000.0</td>\n",
              "      <td>KILOS NETOS</td>\n",
              "      <td>19751.58</td>\n",
              "      <td>0.0</td>\n",
              "      <td>0</td>\n",
              "      <td>800</td>\n",
              "      <td>FOSFATO DICALCICO</td>\n",
              "      <td>POLVOGRADO ALIMENTICIO</td>\n",
              "      <td>B.A-F</td>\n",
              "      <td>USO EN LA INDUSTRIA ALIMENTARIA</td>\n",
              "      <td>00000017.000000 TONELADA      02E0220557631202200</td>\n",
              "      <td>CMA CGM</td>\n",
              "      <td>No disponible</td>\n",
              "      <td>ROTTERDAM</td>\n",
              "      <td>SAN ANTONIO</td>\n",
              "      <td>1</td>\n",
              "      <td>No disponible</td>\n",
              "      <td>214278</td>\n",
              "      <td>0</td>\n",
              "      <td>RE0561005(H)LEXBRE21</td>\n",
              "      <td>8012022</td>\n",
              "    </tr>\n",
              "  </tbody>\n",
              "</table>\n",
              "</div>"
            ],
            "text/plain": [
              "       DUA  item      Fecha  Código SACH                      Importador  \\\n",
              "17  101217     2 2022-02-08     28352500  IMPORTADORA Y DISTRIBUIDORA BL   \n",
              "\n",
              "           RUT       Aduana Vía Transporte País de Origen País de Adquisición  \\\n",
              "17  82705900-5  SAN ANTONIO       MARITIMO       Alemania            Alemania   \n",
              "\n",
              "    FOB Unitario U$S   FOB U$S  Flete U$S  Seguro U$S  U$S CIF  U$S Unitario  \\\n",
              "17              2.15  36514.07    2710.56       75.36  39300.0          2.31   \n",
              "\n",
              "    Cantidad Comercial Unidad de Medida  Kgs. Brutos  Valor ADV.  % ADV.  \\\n",
              "17             17000.0      KILOS NETOS     19751.58         0.0       0   \n",
              "\n",
              "    Acuerdo ALADI         Mercadería                Variedad  Marca  \\\n",
              "17            800  FOSFATO DICALCICO  POLVOGRADO ALIMENTICIO  B.A-F   \n",
              "\n",
              "          Descripción de Mercadería  \\\n",
              "17  USO EN LA INDUSTRIA ALIMENTARIA   \n",
              "\n",
              "                                        Observaciones Transportista  \\\n",
              "17  00000017.000000 TONELADA      02E0220557631202200       CMA CGM   \n",
              "\n",
              "   Bandera - Nave Puerto de Embarque Puerto de Desembarque  Bultos  \\\n",
              "17  No disponible          ROTTERDAM           SAN ANTONIO       1   \n",
              "\n",
              "    Tipo de Bulto Manifiesto  Fecha Manifiesto Documento de Transporte  \\\n",
              "17  No disponible     214278                 0    RE0561005(H)LEXBRE21   \n",
              "\n",
              "    Fec.D.T.  \n",
              "17   8012022  "
            ]
          },
          "execution_count": 1,
          "metadata": {},
          "output_type": "execute_result"
        }
      ],
      "source": [
        "import pandas as pd\n",
        "import numpy as np\n",
        "import warnings\n",
        "# from google.colab import drive\n",
        "\n",
        "pd.options.display.max_columns = None\n",
        "pd.options.display.max_rows = None\n",
        "\n",
        "# !pwd\n",
        "# !cd drive\n",
        "\n",
        "# drive.mount('/content/drive')\n",
        "\n",
        "warnings.simplefilter(\"ignore\")\n",
        "\n",
        "data_location = \"./data/283525_Importaciones_01-11:2022.xlsx\"\n",
        "\n",
        "data = pd.read_excel(data_location, engine=\"openpyxl\")\n",
        "\n",
        "print(\"Este dataframe tiene (filas, col): \\n\",\n",
        "      data.shape, \"\\n\", \"- - - - - - - - - -\")\n",
        "\n",
        "data.sample(1)"
      ]
    },
    {
      "cell_type": "code",
      "execution_count": 2,
      "metadata": {
        "colab": {
          "base_uri": "https://localhost:8080/"
        },
        "id": "nODF-jrnZJwn",
        "outputId": "eaafe478-f493-465f-b898-c1a0e508b94a"
      },
      "outputs": [
        {
          "name": "stdout",
          "output_type": "stream",
          "text": [
            "\u001b[1m\n",
            "Esta bbdd tiene los siguientes datos: \n",
            " \n",
            "\u001b[0m ['DUA', 'item', 'Fecha', 'Código SACH', 'Importador', 'RUT', 'Aduana', 'Vía Transporte', 'País de Origen', 'País de Adquisición', 'FOB Unitario U$S', 'FOB U$S', 'Flete U$S', 'Seguro U$S', 'U$S CIF', 'U$S Unitario', 'Cantidad Comercial', 'Unidad de Medida', 'Kgs. Brutos', 'Valor ADV.', '% ADV.', 'Acuerdo ALADI', 'Mercadería', 'Variedad', 'Marca', 'Descripción de Mercadería', 'Observaciones', 'Transportista', 'Bandera - Nave', 'Puerto de Embarque', 'Puerto de Desembarque', 'Bultos', 'Tipo de Bulto', 'Manifiesto', 'Fecha Manifiesto', 'Documento de Transporte', 'Fec.D.T.'] \n",
            " \n",
            "- - - - - - - - - - - - - - - - -\n",
            "\n"
          ]
        }
      ],
      "source": [
        "# cols = []\n",
        "\n",
        "# def columnas_data(data):\n",
        "#     for col in data:\n",
        "#         cols.append(col)\n",
        "\n",
        "# columnas_data(data)\n",
        "# print(cols)\n",
        "\n",
        "data_cols = [col for col in data.columns]\n",
        "\n",
        "print(\"\\033[1m\" + \"\\nEsta bbdd tiene los siguientes datos: \\n \\n\" +\n",
        "      \"\\033[0m\", data_cols, \"\\n \\n- - - - - - - - - - - - - - - - -\\n\")\n"
      ]
    },
    {
      "cell_type": "markdown",
      "metadata": {
        "id": "eyJE4m7PZJwn"
      },
      "source": [
        "Vamos a ver si estan todos los registros en todas las celdas, o si hay datos sin rellenar:\n",
        "\n",
        "> Este metodo muchas veces puede salir mal porque a veces se rellenan los valores con n/a o cosas del estilo. Despues tambien reviso eso, no worries.\n"
      ]
    },
    {
      "cell_type": "code",
      "execution_count": 3,
      "metadata": {
        "colab": {
          "base_uri": "https://localhost:8080/"
        },
        "id": "YTTupdzJZJwo",
        "outputId": "8a01d944-81d1-4f11-9be9-3a8cb7808b8d"
      },
      "outputs": [
        {
          "name": "stdout",
          "output_type": "stream",
          "text": [
            "\u001b[1m\n",
            "Cantidad de valores que faltan ser completados:\n",
            " \n",
            "\u001b[0m % ADV.                       0\n",
            "Acuerdo ALADI                0\n",
            "Aduana                       0\n",
            "Bandera - Nave               0\n",
            "Bultos                       0\n",
            "Cantidad Comercial           0\n",
            "Código SACH                  0\n",
            "DUA                          0\n",
            "Descripción de Mercadería    0\n",
            "Documento de Transporte      0\n",
            "FOB U$S                      0\n",
            "FOB Unitario U$S             0\n",
            "Fec.D.T.                     0\n",
            "Fecha                        0\n",
            "Fecha Manifiesto             0\n",
            "Flete U$S                    0\n",
            "Importador                   0\n",
            "Kgs. Brutos                  0\n",
            "Manifiesto                   0\n",
            "Marca                        0\n",
            "Mercadería                   0\n",
            "Observaciones                0\n",
            "País de Adquisición          0\n",
            "País de Origen               0\n",
            "Puerto de Desembarque        0\n",
            "Puerto de Embarque           0\n",
            "RUT                          0\n",
            "Seguro U$S                   0\n",
            "Tipo de Bulto                0\n",
            "Transportista                0\n",
            "U$S CIF                      0\n",
            "U$S Unitario                 0\n",
            "Unidad de Medida             0\n",
            "Valor ADV.                   0\n",
            "Variedad                     0\n",
            "Vía Transporte               0\n",
            "item                         0\n",
            "dtype: int64\n"
          ]
        }
      ],
      "source": [
        "is_null_result = data.isnull()\n",
        "# Se ordenan jerarquicamente, en caso de haber alguno, aparece primero.\n",
        "cantidad_nulos = is_null_result.sum().sort_index()\n",
        "\n",
        "print(\"\\033[1m\" + \"\\nCantidad de valores que faltan ser completados:\\n \\n\" +\n",
        "      \"\\033[0m\", cantidad_nulos)\n"
      ]
    },
    {
      "attachments": {},
      "cell_type": "markdown",
      "metadata": {
        "id": "SZbAcUYJZJwo"
      },
      "source": [
        "### La cantidad de campos que no fueron completados es porque se estan usando las palabras de relleno para indicar ausencia:\n",
        "\n",
        "> - No disponible\n",
        "> - NO DISPONIBLE\n",
        "> - S/M\n",
        "> - SIN MARCA\n",
        "> - Sin marca\n",
        "\n",
        "###### `regex_pattern = \"/[nNsS][oOiI|\\/](\\s|[nN]|[Mm])|([dD|MmaAiIsS])/g\"`\n",
        "\n",
        "##### Faltan 39 Marcas, y 14 Proveedores de 77. Estas dos columnas son a las que les faltan datos.\n"
      ]
    },
    {
      "cell_type": "code",
      "execution_count": 4,
      "metadata": {
        "colab": {
          "base_uri": "https://localhost:8080/"
        },
        "id": "5zwkCewyZJwp",
        "outputId": "cfdb96fa-ed60-4369-8706-e2e20d6dc113"
      },
      "outputs": [
        {
          "name": "stdout",
          "output_type": "stream",
          "text": [
            "\u001b[1m\n",
            "Esta bbdd tiene X registros de las siguientes marcas: \n",
            " \n",
            "\u001b[0m QUIMPAC-F                         91\n",
            "ORIENTAL BIOTECH-F                39\n",
            "QSA-F                             15\n",
            "PCS SALES-F                       12\n",
            "ECOCHEM-F                          9\n",
            "TUNIFEED-F                         7\n",
            "CF-F                               6\n",
            "SQBT-F                             5\n",
            "MIDI-F                             4\n",
            "SIGMA-F                            4\n",
            "SUNNIER-F                          3\n",
            "CFB-F                              3\n",
            "Q.S.A. -F                          2\n",
            "J.-F                               2\n",
            "B.A-F                              2\n",
            "E.G.-F                             2\n",
            "OB-F                               2\n",
            "QUIMPAC-FDESHIDRATADOGRADO ALI     2\n",
            "SQBT SUQIAN-F                      1\n",
            "BST FEED-F                         1\n",
            "SUQIAN JIAKANG TRADING-F           1\n",
            "HENAN-F                            1\n",
            "ORIENTAL*BIOTECH-F                 1\n",
            "SANBIOTEC CORP-F                   1\n",
            "SOPRODI-F                          1\n",
            "C.F.B.-F                           1\n",
            "S.Q.B.T. -F                        1\n",
            "Q.S.A.-F                           1\n",
            "SGM-F                              1\n",
            "S.G.M-F                            1\n",
            "QUIMPAC -F                         1\n",
            "E.G.C.-F                           1\n",
            "J-F                                1\n",
            "S.T.C.L..-F                        1\n",
            "N.H.C.C.L.-F                       1\n",
            "SUNNIER TRADE-F                    1\n",
            "O.B.-F                             1\n",
            "C.F.B-F                            1\n",
            "N.V.A.P.C.C-F                      1\n",
            "INNOPHOS-FF110DR0021 DITAB USP     1\n",
            "PCS SALES-FDIHIDRATADOGRADO AL     1\n",
            "INNOPHOS-F                         1\n",
            "Name: Marca, dtype: int64 \n",
            " \n",
            "- - - - - - - - - - - - - - - - -\n"
          ]
        }
      ],
      "source": [
        "print(\"\\033[1m\" + \"\\nEsta bbdd tiene X registros de las siguientes marcas: \\n \\n\" +\n",
        "      \"\\033[0m\", data['Marca'].value_counts(), \"\\n \\n- - - - - - - - - - - - - - - - -\")\n"
      ]
    },
    {
      "cell_type": "code",
      "execution_count": 5,
      "metadata": {
        "colab": {
          "base_uri": "https://localhost:8080/"
        },
        "id": "J9YJqO6qZJwq",
        "outputId": "48765bca-66b2-4312-9c73-150d116a269c"
      },
      "outputs": [
        {
          "name": "stdout",
          "output_type": "stream",
          "text": [
            "\u001b[1m\n",
            "Esta bbdd tiene X registros de los siguientes Importadores en el ultimo año (2022): \n",
            " \n",
            "\u001b[0m AGRICOLA SUPER LIMITADA            75\n",
            "No disponible                      33\n",
            "QUIMICA DEL PACIFICO LIMITADA      31\n",
            "NO DETERMINADO                     16\n",
            "EXPORTADORA LOS FIORDOS LTDA.      16\n",
            "VETERQUIMICA S.A.                  14\n",
            "IMPORTADORA Y DISTRIBUIDORA BL     13\n",
            "PROTEINAS DEL AGRO S.A.            13\n",
            "SUDAMERICA COMERCIAL S.A            5\n",
            "ANASAC CHILE S.A.                   4\n",
            "SIGMAÂ­ALDRICH QUIMICA LIMITADA     4\n",
            "COMERCIAL NATUFEED LIMITADA         3\n",
            "QUIMATIC SPA                        3\n",
            "AGRICOLA CHOROMBO S.A               2\n",
            "IDAL S A                            2\n",
            "Name: Importador, dtype: int64 \n",
            " \n",
            "- - - - - - - - - - - - - - - - -\n"
          ]
        }
      ],
      "source": [
        "print(\"\\033[1m\" + \"\\nEsta bbdd tiene X registros de los siguientes Importadores en el ultimo año (2022): \\n \\n\" +\n",
        "      \"\\033[0m\", data['Importador'].value_counts(), \"\\n \\n- - - - - - - - - - - - - - - - -\")\n"
      ]
    },
    {
      "attachments": {},
      "cell_type": "markdown",
      "metadata": {
        "id": "68JzUGWaZJwq"
      },
      "source": [
        "#### Armo una base de datos separada con las columnas que voy a usar, y descarto las que no. Descarto las importaciones que se hayan hecho por via de transporte aerea, o que tengan menos de 15 toneladas. Filtro los precios cuyo precio unitario sea mayor a $1200 U$S. Estandarizo el formato de la fecha, para poder realizar busquedas semestrales.\n"
      ]
    },
    {
      "cell_type": "code",
      "execution_count": 6,
      "metadata": {
        "colab": {
          "base_uri": "https://localhost:8080/",
          "height": 450
        },
        "id": "MU1qt1SlZJwr",
        "outputId": "cdd0b6cd-efa6-4cbb-cbe6-e541079e665b"
      },
      "outputs": [
        {
          "name": "stdout",
          "output_type": "stream",
          "text": [
            "\n",
            "El ultimo ano tiene (filas, cols):\n",
            "\n",
            " (234, 21) \n",
            "\n",
            "- - - - - - - - -\n",
            "\n",
            "MARITIMO    227\n",
            "00011         3\n",
            "Name: Vía Transporte, dtype: int64\n",
            "\n",
            "> Todas las unidades de medida de cantidad comercial estan en kilos netos: KILOS NETOS    230\n",
            "Name: Unidad de Medida, dtype: int64\n",
            "\n"
          ]
        }
      ],
      "source": [
        "df_new = data.loc[:, ['Código SACH', 'Fecha',  'Importador', 'Aduana', 'Vía Transporte', 'País de Origen', 'País de Adquisición', 'FOB Unitario U$S', 'FOB U$S', 'Flete U$S', 'Seguro U$S', 'U$S CIF', 'U$S Unitario', 'Cantidad Comercial', 'Unidad de Medida', 'Kgs. Brutos',\n",
        "                      'Mercadería', 'Variedad', 'Marca', 'Manifiesto', 'Fecha Manifiesto']]\n",
        "\n",
        "print(\"\\nEl ultimo ano tiene (filas, cols):\\n\\n\",\n",
        "      df_new.shape, '\\n\\n- - - - - - - - -\\n')\n",
        "\n",
        "# Se eliminan registros que vengan por aire\n",
        "df_new.drop(df_new[df_new['Vía Transporte'] == 'AEREA'].index, inplace=True)\n",
        "\n",
        "df_new[\"U$S Unitario\"] = (\n",
        "    df_new['U$S CIF'] / df_new['Cantidad Comercial']).round(2)\n",
        "\n",
        "df_new_filtered = df_new.loc[(df_new['U$S Unitario'] <= 1.2)]\n",
        "\n",
        "df_new_filtered['Fecha'] = pd.to_datetime(df_new['Fecha'], format='%Y-%m-%d')\n",
        "\n",
        "# print(\n",
        "#     f\"> Todas las unidades de medida de cantidad comercial estan en kilos netos: {df_new['Unidad de Medida'].value_counts()}\\n\")\n",
        "\n",
        "df_new_filtered.sample(1)\n",
        "\n",
        "print(df_new['Vía Transporte'].value_counts())\n",
        "\n",
        "print(\n",
        "    F\"\\n> Todas las unidades de medida de cantidad comercial estan en kilos netos: {df_new['Unidad de Medida'].value_counts()}\\n\")\n"
      ]
    },
    {
      "cell_type": "markdown",
      "metadata": {
        "id": "mMyZ2ZbLZJwr"
      },
      "source": [
        "#### Sobre esa, armo otra base de datos separada para armar el analisis de venta en los ultimos 6 meses para Peru.\n"
      ]
    },
    {
      "cell_type": "code",
      "execution_count": 7,
      "metadata": {
        "colab": {
          "base_uri": "https://localhost:8080/"
        },
        "id": "kYwLzBsuZJws",
        "outputId": "df0b43d3-23fd-4324-f451-0989e7d9ef47"
      },
      "outputs": [
        {
          "name": "stdout",
          "output_type": "stream",
          "text": [
            "\u001b[1m\n",
            "> El ultimo ano con productos de U$S Unitario <= 1200 tienen (filas, cols):\u001b[0m\n",
            "\n",
            " (210, 21) \n",
            "\n",
            "- - - - - - - - -\n",
            "\u001b[1m\n",
            "> De U$S Unitario(<=1200) en el ultimo ano tenemos los siguientes estadisticos:\n",
            "\u001b[0m\n",
            " count    210.00\n",
            "mean       0.77\n",
            "std        0.14\n",
            "min        0.40\n",
            "25%        0.68\n",
            "50%        0.80\n",
            "75%        0.88\n",
            "max        1.11\n",
            "Name: U$S Unitario, dtype: float64 \n",
            "\n",
            "- - - - - - - - -\n",
            "\n",
            "> Eso significa que de los datos filtrados (no aereo, <1200) y registrados, en el primer semestre hubo solo 7 ventas registradas y en el segundo 39.\n",
            "\n"
          ]
        }
      ],
      "source": [
        "# # Filtro los datos por los últimos 6 meses\n",
        "# df_6months = df_new_filtered.loc[(df_new_filtered['Fecha'] > \"2022-05-31\")\n",
        "#                                  & (df_new_filtered['Fecha'] <= \"2022-12-31\")]\n",
        "\n",
        "\n",
        "print(\"\\033[1m\\n> El ultimo ano con productos de U$S Unitario <= 1200 tienen (filas, cols):\\033[0m\\n\\n\",\n",
        "      df_new_filtered.shape, '\\n\\n- - - - - - - - -')\n",
        "\n",
        "print(\"\\033[1m\\n> De U$S Unitario(<=1200) en el ultimo ano tenemos los siguientes estadisticos:\\n\\033[0m\\n\",\n",
        "      df_new_filtered['U$S Unitario'].describe().round(2), '\\n\\n- - - - - - - - -\\n')\n",
        "\n",
        "# print(\"\\033[1m\\n> Los 6 ultimos meses con productos de U$S Unitario <= 1200 tienen (filas, cols):\\033[0m\\n\\n\",\n",
        "#       df_6months.shape, '\\n\\n- - - - - - - - -')\n",
        "\n",
        "# print(\"\\033[1m\\n> De U$S Unitario(<=1200) en los ultimos 6 meses tenemos los siguientes estadisticos:\\n\\033[0m\\n\",\n",
        "#       df_6months['U$S Unitario'].describe().round(2), '\\n\\n- - - - - - - - -\\n')\n",
        "\n",
        "print(\"> Eso significa que de los datos filtrados (no aereo, <1200) y registrados, en el primer semestre hubo solo 7 ventas registradas y en el segundo 39.\\n\")\n",
        "\n",
        "# df_6months.sample(4)\n"
      ]
    },
    {
      "cell_type": "code",
      "execution_count": 8,
      "metadata": {
        "colab": {
          "base_uri": "https://localhost:8080/",
          "height": 658
        },
        "id": "WevfGFJ-ZJws",
        "outputId": "bb384d28-321e-4b69-9ac2-545f574c9f8d"
      },
      "outputs": [
        {
          "data": {
            "text/plain": [
              "<AxesSubplot: title={'center': 'U$S Unitario Ultimo Año'}>"
            ]
          },
          "execution_count": 8,
          "metadata": {},
          "output_type": "execute_result"
        },
        {
          "data": {
            "image/png": "[encoded data removed]",
            "text/plain": [
              "<Figure size 640x480 with 1 Axes>"
            ]
          },
          "metadata": {},
          "output_type": "display_data"
        }
      ],
      "source": [
        "# df_6months['U$S Unitario'].dtype\n",
        "\n",
        "\n",
        "df_new_filtered['U$S Unitario'].plot(kind='box', title=\"U$S Unitario Ultimo Año\")\n"
      ]
    },
    {
      "cell_type": "code",
      "execution_count": 9,
      "metadata": {
        "id": "LB3H9mWsZJwt"
      },
      "outputs": [
        {
          "data": {
            "image/png": "[encoded data removed]",
            "text/plain": [
              "<Figure size 640x480 with 1 Axes>"
            ]
          },
          "metadata": {},
          "output_type": "display_data"
        }
      ],
      "source": [
        "import matplotlib.pyplot as plt\n",
        "\n",
        "df_new_filtered = df_new_filtered.sort_values(\n",
        "    'U$S Unitario', ascending=False)\n",
        "\n",
        "df_new_filtered.plot.line(x=\"U$S Unitario\", y=\"Cantidad Comercial\",\n",
        "                              title=\"Kilogramos netos y precio U$S Unitario de compra (ultimo año)\")\n",
        "\n",
        "df_new_filtered = df_new_filtered.sort_values(\n",
        "    'Cantidad Comercial', ascending=False)\n"
      ]
    },
    {
      "cell_type": "markdown",
      "metadata": {
        "id": "lJAcmB5EZJwt"
      },
      "source": [
        "## Parte 2\n",
        "\n",
        "#### Desglose por compañia de las importaciones de los ultimos 6 meses. Este incluye:\n",
        "- Nombre de la compañia\n",
        "- Cantidad de importaciones\n",
        "- Proveedores, y cantidad de importaciones por proveedor\n",
        "- Precio promedio de compra por unidad en los ultimos 6 meses\n",
        "- Volumen total neto de compra en los ultimos 6 meses\n",
        "- Detalles de la ultima compra realizada\n"
      ]
    },
    {
      "cell_type": "code",
      "execution_count": 10,
      "metadata": {},
      "outputs": [
        {
          "data": {
            "text/html": [
              "<div>\n",
              "<style scoped>\n",
              "    .dataframe tbody tr th:only-of-type {\n",
              "        vertical-align: middle;\n",
              "    }\n",
              "\n",
              "    .dataframe tbody tr th {\n",
              "        vertical-align: top;\n",
              "    }\n",
              "\n",
              "    .dataframe thead th {\n",
              "        text-align: right;\n",
              "    }\n",
              "</style>\n",
              "<table border=\"1\" class=\"dataframe\">\n",
              "  <thead>\n",
              "    <tr style=\"text-align: right;\">\n",
              "      <th></th>\n",
              "      <th>Código SACH</th>\n",
              "      <th>Fecha</th>\n",
              "      <th>Importador</th>\n",
              "      <th>Aduana</th>\n",
              "      <th>Vía Transporte</th>\n",
              "      <th>País de Origen</th>\n",
              "      <th>País de Adquisición</th>\n",
              "      <th>FOB Unitario U$S</th>\n",
              "      <th>FOB U$S</th>\n",
              "      <th>Flete U$S</th>\n",
              "      <th>Seguro U$S</th>\n",
              "      <th>U$S CIF</th>\n",
              "      <th>U$S Unitario</th>\n",
              "      <th>Cantidad Comercial</th>\n",
              "      <th>Unidad de Medida</th>\n",
              "      <th>Kgs. Brutos</th>\n",
              "      <th>Mercadería</th>\n",
              "      <th>Variedad</th>\n",
              "      <th>Marca</th>\n",
              "      <th>Manifiesto</th>\n",
              "      <th>Fecha Manifiesto</th>\n",
              "    </tr>\n",
              "  </thead>\n",
              "  <tbody>\n",
              "    <tr>\n",
              "      <th>18</th>\n",
              "      <td>28352500</td>\n",
              "      <td>2022-02-08</td>\n",
              "      <td>AGRICOLA SUPER LIMITADA</td>\n",
              "      <td>SAN ANTONIO</td>\n",
              "      <td>MARITIMO</td>\n",
              "      <td>Túnez</td>\n",
              "      <td>Túnez</td>\n",
              "      <td>0.84</td>\n",
              "      <td>504000.01</td>\n",
              "      <td>41999.99</td>\n",
              "      <td>600.0</td>\n",
              "      <td>546600.0</td>\n",
              "      <td>0.91</td>\n",
              "      <td>600000.0</td>\n",
              "      <td>KILOS NETOS</td>\n",
              "      <td>609000.0</td>\n",
              "      <td>FOSFATO DICALCICO</td>\n",
              "      <td>DESHIDRATADO</td>\n",
              "      <td>TUNIFEED-F</td>\n",
              "      <td>214278</td>\n",
              "      <td>0</td>\n",
              "    </tr>\n",
              "  </tbody>\n",
              "</table>\n",
              "</div>"
            ],
            "text/plain": [
              "    Código SACH      Fecha               Importador       Aduana  \\\n",
              "18     28352500 2022-02-08  AGRICOLA SUPER LIMITADA  SAN ANTONIO   \n",
              "\n",
              "   Vía Transporte País de Origen País de Adquisición  FOB Unitario U$S  \\\n",
              "18       MARITIMO          Túnez               Túnez              0.84   \n",
              "\n",
              "      FOB U$S  Flete U$S  Seguro U$S   U$S CIF  U$S Unitario  \\\n",
              "18  504000.01   41999.99       600.0  546600.0          0.91   \n",
              "\n",
              "    Cantidad Comercial Unidad de Medida  Kgs. Brutos         Mercadería  \\\n",
              "18            600000.0      KILOS NETOS     609000.0  FOSFATO DICALCICO   \n",
              "\n",
              "        Variedad       Marca Manifiesto  Fecha Manifiesto  \n",
              "18  DESHIDRATADO  TUNIFEED-F     214278                 0  "
            ]
          },
          "execution_count": 10,
          "metadata": {},
          "output_type": "execute_result"
        }
      ],
      "source": [
        "df_new_filtered.head(1)"
      ]
    },
    {
      "cell_type": "code",
      "execution_count": 11,
      "metadata": {
        "id": "SSszS9fFZJwt"
      },
      "outputs": [
        {
          "name": "stdout",
          "output_type": "stream",
          "text": [
            "\u001b[1m> Las companias con mas de 15 tm en el ultimo semestre fueron:\u001b[0m ['AGRICOLA SUPER LIMITADA', 'ANASAC CHILE S.A.', 'No disponible', 'NO DETERMINADO', 'PROTEINAS DEL AGRO S.A.', 'COMERCIAL NATUFEED LIMITADA', 'SUDAMERICA COMERCIAL S.A', 'QUIMICA DEL PACIFICO LIMITADA', 'AGRICOLA CHOROMBO S.A', 'VETERQUIMICA S.A.', 'EXPORTADORA LOS FIORDOS LTDA.', 'IDAL S A'] \n",
            "\u001b[1m\n",
            "__________________________________________________________________________________\n",
            "\n"
          ]
        },
        {
          "data": {
            "text/html": [
              "<div>\n",
              "<style scoped>\n",
              "    .dataframe tbody tr th:only-of-type {\n",
              "        vertical-align: middle;\n",
              "    }\n",
              "\n",
              "    .dataframe tbody tr th {\n",
              "        vertical-align: top;\n",
              "    }\n",
              "\n",
              "    .dataframe thead th {\n",
              "        text-align: right;\n",
              "    }\n",
              "</style>\n",
              "<table border=\"1\" class=\"dataframe\">\n",
              "  <thead>\n",
              "    <tr style=\"text-align: right;\">\n",
              "      <th></th>\n",
              "      <th>NCM/NANDINA/SACH</th>\n",
              "      <th>Importador</th>\n",
              "      <th>Volumen Total (Tn)</th>\n",
              "      <th>No. Importaciones</th>\n",
              "      <th>Precio Promedio</th>\n",
              "      <th>Ultimo Precio</th>\n",
              "      <th>Ref. Ultima Compra</th>\n",
              "      <th>Participacion en Vol. Total</th>\n",
              "      <th>Origenes</th>\n",
              "    </tr>\n",
              "  </thead>\n",
              "  <tbody>\n",
              "    <tr>\n",
              "      <th>0</th>\n",
              "      <td>283525</td>\n",
              "      <td>AGRICOLA SUPER LIMITADA</td>\n",
              "      <td>18265.91</td>\n",
              "      <td>75</td>\n",
              "      <td>860.0</td>\n",
              "      <td>870.0</td>\n",
              "      <td>Fecha: 2022-11-25 | Ctdad: 396.0 tns</td>\n",
              "      <td>46%</td>\n",
              "      <td>Túnez, Perú, Estados Unidos</td>\n",
              "    </tr>\n",
              "    <tr>\n",
              "      <th>1</th>\n",
              "      <td>283525</td>\n",
              "      <td>No disponible</td>\n",
              "      <td>6062.00</td>\n",
              "      <td>32</td>\n",
              "      <td>680.0</td>\n",
              "      <td>710.0</td>\n",
              "      <td>Fecha: 2022-11-29 | Ctdad: 200.0 tns</td>\n",
              "      <td>15%</td>\n",
              "      <td>China</td>\n",
              "    </tr>\n",
              "    <tr>\n",
              "      <th>2</th>\n",
              "      <td>283525</td>\n",
              "      <td>QUIMICA DEL PACIFICO LIMITADA</td>\n",
              "      <td>3270.50</td>\n",
              "      <td>31</td>\n",
              "      <td>820.0</td>\n",
              "      <td>850.0</td>\n",
              "      <td>Fecha: 2022-11-21 | Ctdad: 200.0 tns</td>\n",
              "      <td>8%</td>\n",
              "      <td>Perú</td>\n",
              "    </tr>\n",
              "    <tr>\n",
              "      <th>3</th>\n",
              "      <td>283525</td>\n",
              "      <td>EXPORTADORA LOS FIORDOS LTDA.</td>\n",
              "      <td>2821.50</td>\n",
              "      <td>16</td>\n",
              "      <td>890.0</td>\n",
              "      <td>870.0</td>\n",
              "      <td>Fecha: 2022-11-29 | Ctdad: 148.5 tns</td>\n",
              "      <td>7%</td>\n",
              "      <td>Perú</td>\n",
              "    </tr>\n",
              "    <tr>\n",
              "      <th>4</th>\n",
              "      <td>283525</td>\n",
              "      <td>PROTEINAS DEL AGRO S.A.</td>\n",
              "      <td>2550.00</td>\n",
              "      <td>13</td>\n",
              "      <td>570.0</td>\n",
              "      <td>640.0</td>\n",
              "      <td>Fecha: 2022-11-22 | Ctdad: 300.0 tns</td>\n",
              "      <td>6%</td>\n",
              "      <td>China</td>\n",
              "    </tr>\n",
              "    <tr>\n",
              "      <th>5</th>\n",
              "      <td>283525</td>\n",
              "      <td>NO DETERMINADO</td>\n",
              "      <td>2276.00</td>\n",
              "      <td>14</td>\n",
              "      <td>570.0</td>\n",
              "      <td>520.0</td>\n",
              "      <td>Fecha: 2022-04-01 | Ctdad: 200.0 tns</td>\n",
              "      <td>6%</td>\n",
              "      <td>China</td>\n",
              "    </tr>\n",
              "    <tr>\n",
              "      <th>6</th>\n",
              "      <td>283525</td>\n",
              "      <td>VETERQUIMICA S.A.</td>\n",
              "      <td>1393.50</td>\n",
              "      <td>13</td>\n",
              "      <td>810.0</td>\n",
              "      <td>870.0</td>\n",
              "      <td>Fecha: 2022-10-18 | Ctdad: 50.0 tns</td>\n",
              "      <td>3%</td>\n",
              "      <td>Perú, China</td>\n",
              "    </tr>\n",
              "    <tr>\n",
              "      <th>7</th>\n",
              "      <td>283525</td>\n",
              "      <td>ANASAC CHILE S.A.</td>\n",
              "      <td>1301.00</td>\n",
              "      <td>4</td>\n",
              "      <td>560.0</td>\n",
              "      <td>590.0</td>\n",
              "      <td>Fecha: 2022-08-12 | Ctdad: 335.0 tns</td>\n",
              "      <td>3%</td>\n",
              "      <td>China</td>\n",
              "    </tr>\n",
              "    <tr>\n",
              "      <th>8</th>\n",
              "      <td>283525</td>\n",
              "      <td>SUDAMERICA COMERCIAL S.A</td>\n",
              "      <td>963.75</td>\n",
              "      <td>5</td>\n",
              "      <td>650.0</td>\n",
              "      <td>740.0</td>\n",
              "      <td>Fecha: 2022-09-27 | Ctdad: 130.0 tns</td>\n",
              "      <td>2%</td>\n",
              "      <td>China</td>\n",
              "    </tr>\n",
              "    <tr>\n",
              "      <th>9</th>\n",
              "      <td>283525</td>\n",
              "      <td>COMERCIAL NATUFEED LIMITADA</td>\n",
              "      <td>600.00</td>\n",
              "      <td>3</td>\n",
              "      <td>500.0</td>\n",
              "      <td>590.0</td>\n",
              "      <td>Fecha: 2022-06-02 | Ctdad: 450.0 tns</td>\n",
              "      <td>2%</td>\n",
              "      <td>China</td>\n",
              "    </tr>\n",
              "    <tr>\n",
              "      <th>10</th>\n",
              "      <td>283525</td>\n",
              "      <td>AGRICOLA CHOROMBO S.A</td>\n",
              "      <td>310.00</td>\n",
              "      <td>2</td>\n",
              "      <td>810.0</td>\n",
              "      <td>900.0</td>\n",
              "      <td>Fecha: 2022-09-30 | Ctdad: 208.0 tns</td>\n",
              "      <td>1%</td>\n",
              "      <td>China</td>\n",
              "    </tr>\n",
              "    <tr>\n",
              "      <th>11</th>\n",
              "      <td>283525</td>\n",
              "      <td>IDAL S A</td>\n",
              "      <td>181.00</td>\n",
              "      <td>2</td>\n",
              "      <td>860.0</td>\n",
              "      <td>970.0</td>\n",
              "      <td>Fecha: 2022-03-31 | Ctdad: 181.0 tns</td>\n",
              "      <td>0%</td>\n",
              "      <td>China</td>\n",
              "    </tr>\n",
              "  </tbody>\n",
              "</table>\n",
              "</div>"
            ],
            "text/plain": [
              "    NCM/NANDINA/SACH                     Importador  Volumen Total (Tn)  \\\n",
              "0             283525        AGRICOLA SUPER LIMITADA            18265.91   \n",
              "1             283525                  No disponible             6062.00   \n",
              "2             283525  QUIMICA DEL PACIFICO LIMITADA             3270.50   \n",
              "3             283525  EXPORTADORA LOS FIORDOS LTDA.             2821.50   \n",
              "4             283525        PROTEINAS DEL AGRO S.A.             2550.00   \n",
              "5             283525                 NO DETERMINADO             2276.00   \n",
              "6             283525              VETERQUIMICA S.A.             1393.50   \n",
              "7             283525              ANASAC CHILE S.A.             1301.00   \n",
              "8             283525       SUDAMERICA COMERCIAL S.A              963.75   \n",
              "9             283525    COMERCIAL NATUFEED LIMITADA              600.00   \n",
              "10            283525          AGRICOLA CHOROMBO S.A              310.00   \n",
              "11            283525                       IDAL S A              181.00   \n",
              "\n",
              "    No. Importaciones  Precio Promedio  Ultimo Precio  \\\n",
              "0                  75            860.0          870.0   \n",
              "1                  32            680.0          710.0   \n",
              "2                  31            820.0          850.0   \n",
              "3                  16            890.0          870.0   \n",
              "4                  13            570.0          640.0   \n",
              "5                  14            570.0          520.0   \n",
              "6                  13            810.0          870.0   \n",
              "7                   4            560.0          590.0   \n",
              "8                   5            650.0          740.0   \n",
              "9                   3            500.0          590.0   \n",
              "10                  2            810.0          900.0   \n",
              "11                  2            860.0          970.0   \n",
              "\n",
              "                      Ref. Ultima Compra Participacion en Vol. Total  \\\n",
              "0   Fecha: 2022-11-25 | Ctdad: 396.0 tns                         46%   \n",
              "1   Fecha: 2022-11-29 | Ctdad: 200.0 tns                         15%   \n",
              "2   Fecha: 2022-11-21 | Ctdad: 200.0 tns                          8%   \n",
              "3   Fecha: 2022-11-29 | Ctdad: 148.5 tns                          7%   \n",
              "4   Fecha: 2022-11-22 | Ctdad: 300.0 tns                          6%   \n",
              "5   Fecha: 2022-04-01 | Ctdad: 200.0 tns                          6%   \n",
              "6    Fecha: 2022-10-18 | Ctdad: 50.0 tns                          3%   \n",
              "7   Fecha: 2022-08-12 | Ctdad: 335.0 tns                          3%   \n",
              "8   Fecha: 2022-09-27 | Ctdad: 130.0 tns                          2%   \n",
              "9   Fecha: 2022-06-02 | Ctdad: 450.0 tns                          2%   \n",
              "10  Fecha: 2022-09-30 | Ctdad: 208.0 tns                          1%   \n",
              "11  Fecha: 2022-03-31 | Ctdad: 181.0 tns                          0%   \n",
              "\n",
              "                       Origenes  \n",
              "0   Túnez, Perú, Estados Unidos  \n",
              "1                         China  \n",
              "2                          Perú  \n",
              "3                          Perú  \n",
              "4                         China  \n",
              "5                         China  \n",
              "6                   Perú, China  \n",
              "7                         China  \n",
              "8                         China  \n",
              "9                         China  \n",
              "10                        China  \n",
              "11                        China  "
            ]
          },
          "execution_count": 11,
          "metadata": {},
          "output_type": "execute_result"
        }
      ],
      "source": [
        "# FX DEVUELVE DETALLES DE IMPORTADOR\n",
        "\n",
        "def last_year_data():\n",
        "    global dataframe_toExcel\n",
        "\n",
        "    companias_mayores_15tm = []\n",
        "\n",
        "    dataframe_toExcel = {\n",
        "        \"NCM/NANDINA/SACH\": [],\n",
        "        \"Importador\": [],\n",
        "        \"No. Importaciones\": [],\n",
        "        \"Volumen Total (Tn)\": [],\n",
        "        \"Precio Promedio\": [],\n",
        "        \"Ultimo Precio\": [],\n",
        "        # \"Proveedores\": [],\n",
        "        \"Origenes\": [],\n",
        "        \"Ref. Ultima Compra\": [],\n",
        "        \"Participacion en Vol. Total\": []\n",
        "    }\n",
        "\n",
        "    for company in df_new_filtered['Importador'].unique():\n",
        "\n",
        "        data = df_new_filtered[df_new_filtered['Importador']\n",
        "                               == f\"{company}\"]\n",
        "        volumenTotalImportacionTn = (\n",
        "            df_new_filtered['Cantidad Comercial'].sum()/1000).round(2)\n",
        "\n",
        "        if (data['Cantidad Comercial'].sum() > 15000):\n",
        "\n",
        "            companias_mayores_15tm.append(company)\n",
        "            volumenTotalCompania = (data['Cantidad Comercial'].sum()/1000).round(2)\n",
        "            ncmNoTrailZeroes = str(data._get_value(\n",
        "                0, 0, takeable=True)).rstrip('0')\n",
        "\n",
        "            # Adding iterated values to the dataframe\n",
        "            dataframe_toExcel['NCM/NANDINA/SACH'].append(\n",
        "                int(ncmNoTrailZeroes)\n",
        "            )\n",
        "            dataframe_toExcel['Importador'].append(company)\n",
        "            dataframe_toExcel['No. Importaciones'].append(len(data))\n",
        "            dataframe_toExcel['Volumen Total (Tn)'].append(\n",
        "                volumenTotalCompania\n",
        "            )\n",
        "            dataframe_toExcel['Precio Promedio'].append(\n",
        "                (data['U$S Unitario'].mean().round(2))*1000)\n",
        "            dataframe_toExcel['Origenes'].append(\n",
        "                ', '.join(data['País de Origen'].unique().tolist()))\n",
        "\n",
        "            data = data.sort_values('Fecha', ascending=False)\n",
        "            fecha_ultima_compra = data['Fecha'].iloc[0]\n",
        "            data_ultima_compra = data[data['Fecha'] == fecha_ultima_compra]\n",
        "\n",
        "            dataframe_toExcel['Ultimo Precio'].append(\n",
        "                (data_ultima_compra['U$S Unitario']._get_value(0, ':,-1'))*1000)\n",
        "\n",
        "            dataframe_toExcel['Ref. Ultima Compra'].append(\n",
        "                f\"Fecha: {fecha_ultima_compra.date()} | Ctdad: {(data_ultima_compra['Cantidad Comercial'].sum()/1000).round(2)} tns\"\n",
        "            )\n",
        "            dataframe_toExcel['Participacion en Vol. Total'].append(\n",
        "                f\"{round((volumenTotalCompania / volumenTotalImportacionTn) * 100)}%\"\n",
        "\n",
        "            )\n",
        "\n",
        "            # print(\n",
        "            #     f\"\\033[1m> Estos datos son de:\\n \\033[0m {company}\\n- - - - - - - - - -\\n\")\n",
        "\n",
        "            # print(\n",
        "            #     f\"\\033[1m> Estos datos tienen (filas, cols):\\033[0m {data.shape}\\n- - - - - - - - - -\\n\")\n",
        "\n",
        "            # print(\n",
        "            #     f\"\\033[1m> Los proveedores de fueron:\\033[0m \\n {data['Proveedor'].value_counts()}\\n- - - - - - - - - -\\n\")\n",
        "\n",
        "            # print(\n",
        "            #     f\"\\033[1m> El precio promedio de U$S Unitario en los ultimos 6 meses fue:\\033[0m {data['U$S Unitario'].mean().round(2)}\\n- - - - - - - - - -\\n\")\n",
        "            # print(\n",
        "            #     f\"\\033[1m> El volumen total de compra en TONELADAS fue de:\\033[0m {(data['Kgs. Netos'].sum()/1000).round(2)}\\n- - - - - - - - - -\\n\")\n",
        "\n",
        "            # print(\n",
        "            #     f\"\\033[1m> Las compras provienen de: \\n\\033[0m{data['País de Origen'].value_counts()}\\n- - - - - - - - - -\\n\")\n",
        "\n",
        "            # print(\n",
        "            #     f\"\\033[1m> La ultima compra fue:\\033[0m \\n {data_ultima_compra}\\n\")\n",
        "\n",
        "            # print(\n",
        "            #     f\"\\033[1m\\n__________________________________________________________________________________\\n\")\n",
        "\n",
        "    print(\n",
        "        f\"\\033[1m> Las companias con mas de 15 tm en el ultimo semestre fueron:\\033[0m {companias_mayores_15tm} \")\n",
        "    print(\n",
        "        f\"\\033[1m\\n__________________________________________________________________________________\\n\")\n",
        "\n",
        "\n",
        "last_year_data()\n",
        "\n",
        "excel_new_data = pd.DataFrame.from_records(\n",
        "    dataframe_toExcel).sort_values('Volumen Total (Tn)', ascending=False).reset_index(drop=True)\n",
        "\n",
        "excel_new_data = excel_new_data[['NCM/NANDINA/SACH', 'Importador', 'Volumen Total (Tn)', 'No. Importaciones',\n",
        "                                 'Precio Promedio', 'Ultimo Precio', 'Ref. Ultima Compra', \"Participacion en Vol. Total\", 'Origenes']]\n",
        "\n",
        "\n",
        "excel_new_data"
      ]
    },
    {
      "cell_type": "code",
      "execution_count": 14,
      "metadata": {},
      "outputs": [
        {
          "name": "stdout",
          "output_type": "stream",
          "text": [
            "\u001b[1m> Las hojas del excel actualmente son:\u001b[0m\n",
            " [<Worksheet 'ARGENTINA' id:1406011122>]\n",
            "- - - - - - - - - -\n",
            "\n",
            "Spreadsheet doesn't exist: Creating the new worksheet...\n",
            "- - - - - - - - - -\n",
            "\n",
            "> Spreadsheet created.\n",
            "- - - - - - - - - -\n",
            "\n"
          ]
        }
      ],
      "source": [
        "\n",
        "import os\n",
        "import json\n",
        "import gspread as gs\n",
        "\n",
        "CURRENT_WD = os.getcwd()\n",
        "COUNTRY_WD = (os.path.basename(CURRENT_WD).split('/')[-1]).upper()\n",
        "CREDENTIALS = '../credentials.json'\n",
        "\n",
        "# gc = gs.oauth(credentials_filename=CREDENTIALS)\n",
        "gc = gs.service_account(filename='../service-credentials.json')\n",
        "sh = gc.open('Resumen2022_Sudamerica')\n",
        "\n",
        "worksheet_list = sh.worksheets()\n",
        "\n",
        "print(\n",
        "    f\"\\033[1m> Las hojas del excel actualmente son:\\033[0m\\n {worksheet_list}\\n- - - - - - - - - -\\n\")\n",
        "\n",
        "try:\n",
        "    ws = sh.worksheet(f'{COUNTRY_WD}')\n",
        "    # Code if spreadsheet exists:\n",
        "    print(\"Spreadsheet exists: Modifying existing working sheet...\\n- - - - - - - - - -\\n\")\n",
        "    # ws.clear()\n",
        "    df_values = excel_new_data.values.tolist()\n",
        "    sh.values_append(f'{COUNTRY_WD}', {'valueInputOption': 'RAW'}, {\n",
        "                     'values': df_values})\n",
        "    print(\"> Spreadsheet modified.\\n- - - - - - - - - -\\n\")\n",
        "except gs.exceptions.WorksheetNotFound:\n",
        "    # Code if spreadsheet doesn't exist:\n",
        "    print(\"Spreadsheet doesn't exist: Creating the new worksheet...\\n- - - - - - - - - -\\n\")\n",
        "    sh.add_worksheet(title=f\"{COUNTRY_WD}\", rows=100, cols=20)\n",
        "    ws = sh.worksheet(f'{COUNTRY_WD}')\n",
        "    ws.update([excel_new_data.columns.values.tolist()] +\n",
        "              excel_new_data.values.tolist())\n",
        "    print(\"> Spreadsheet created.\\n- - - - - - - - - -\\n\")\n"
      ]
    },
    {
      "cell_type": "markdown",
      "metadata": {
        "id": "g_nR2D2C68k2"
      },
      "source": [
        "## Parte 3\n",
        "\n",
        "#### En esta parte se responden preguntas especificas usando datos anuales y semestrales.\n",
        "\n",
        "- Cuanto volumen importo cada compañia peruana en el ultimo año, y semestre?"
      ]
    },
    {
      "cell_type": "code",
      "execution_count": null,
      "metadata": {
        "id": "7VfavI3E7N5-"
      },
      "outputs": [
        {
          "name": "stdout",
          "output_type": "stream",
          "text": [
            "\u001b[1m\n",
            " ~ ULTIMO AÑO (2022) ~ \u001b[0m\n",
            "\n",
            "- - - - - - - - -\n",
            "\u001b[1m\n",
            "> El ultimo año con productos de U$S Unitario <= 1200 tiene (filas, cols):\u001b[0m\n",
            "\n",
            " (191, 21) \n",
            "\n",
            "- - - - - - - - -\n",
            "\u001b[1m \n",
            "> De U$S Unitario(<=1200) en el ultimo año tenemos los siguientes estadisticos:\n",
            " \u001b[0m\n",
            " count    191.00\n",
            "mean       0.77\n",
            "std        0.14\n",
            "min        0.40\n",
            "25%        0.67\n",
            "50%        0.79\n",
            "75%        0.88\n",
            "max        1.11\n",
            "Name: U$S Unitario, dtype: float64 \n",
            "\n",
            "- - - - - - - - -\n",
            "\n",
            "\u001b[1m ~ ULTIMO SEMESTRE (2022) ~ \u001b[0m\n",
            "\n",
            "- - - - - - - - -\n",
            "\u001b[1m\n",
            "> Los 6 ultimos meses con productos de U$S Unitario <= 1200 tienen (filas, cols):\u001b[0m\n",
            "\n",
            " (102, 21) \n",
            "\n",
            "- - - - - - - - -\n",
            "\u001b[1m \n",
            "> De U$S Unitario(<=1200) en los ultimos 6 meses tenemos los siguientes estadisticos:\n",
            " \u001b[0m\n",
            " count    102.00\n",
            "mean       0.78\n",
            "std        0.14\n",
            "min        0.45\n",
            "25%        0.66\n",
            "50%        0.86\n",
            "75%        0.90\n",
            "max        1.11\n",
            "Name: U$S Unitario, dtype: float64 \n",
            "\n",
            "- - - - - - - - -\n",
            "\n"
          ]
        }
      ],
      "source": [
        "# df_new_filtered | df_6months_filtered\n",
        "print(\"\\033[1m\\n ~ ULTIMO AÑO (2022) ~ \\033[0m\\n\\n- - - - - - - - -\")\n",
        "\n",
        "print(\"\\033[1m\\n> El ultimo año con productos de U$S Unitario <= 1200 tiene (filas, cols):\\033[0m\\n\\n\",\n",
        "      df_new_filtered.shape, '\\n\\n- - - - - - - - -')\n",
        "\n",
        "print(\"\\033[1m\", \"\\n> De U$S Unitario(<=1200) en el ultimo año tenemos los siguientes estadisticos:\\n\", \"\\033[0m\\n\",\n",
        "      df_new_filtered['U$S Unitario'].describe().round(2), '\\n\\n- - - - - - - - -\\n')\n",
        "\n",
        "print(\"\\033[1m ~ ULTIMO SEMESTRE (2022) ~ \\033[0m\\n\\n- - - - - - - - -\")\n",
        "\n",
        "print(\"\\033[1m\\n> Los 6 ultimos meses con productos de U$S Unitario <= 1200 tienen (filas, cols):\\033[0m\\n\\n\",\n",
        "      df_6months_filtered.shape, '\\n\\n- - - - - - - - -')\n",
        "\n",
        "print(\"\\033[1m\", \"\\n> De U$S Unitario(<=1200) en los ultimos 6 meses tenemos los siguientes estadisticos:\\n\", \"\\033[0m\\n\",\n",
        "      df_6months_filtered['U$S Unitario'].describe().round(2), '\\n\\n- - - - - - - - -\\n')\n"
      ]
    },
    {
      "cell_type": "code",
      "execution_count": null,
      "metadata": {
        "id": "MU-yNqk38244"
      },
      "outputs": [],
      "source": [
        "# Volumen neto total por año\n",
        "totalNetImport_year = df_new_filtered[['Importador',  'Cantidad Comercial']]\n",
        "\n",
        "# print(maxImport_year.head(1))\n",
        "\n",
        "totalNetImport_6months = df_6months_filtered[[\n",
        "    'Importador',  'Cantidad Comercial']]\n",
        "\n",
        "# print(maxImport_6months.head(1))\n"
      ]
    },
    {
      "cell_type": "code",
      "execution_count": null,
      "metadata": {
        "id": "ILMiPwlw--Fy"
      },
      "outputs": [
        {
          "name": "stdout",
          "output_type": "stream",
          "text": [
            "\u001b[1m\n",
            "> Volumen total neto de importaciones en el ultimo año por compañia en TONELADAS:\n",
            "\u001b[0m\n",
            "Importador\n",
            "AGRICOLA SUPER LIMITADA          16681.91\n",
            "No disponible                     5137.00\n",
            "QUIMICA DEL PACIFICO LIMITADA     2600.50\n",
            "NO DETERMINADO                    2276.00\n",
            "PROTEINAS DEL AGRO S.A.           2250.00\n",
            "EXPORTADORA LOS FIORDOS LTDA.     2227.50\n",
            "VETERQUIMICA S.A.                 1393.50\n",
            "ANASAC CHILE S.A.                 1301.00\n",
            "SUDAMERICA COMERCIAL S.A           963.75\n",
            "COMERCIAL NATUFEED LIMITADA        600.00\n",
            "AGRICOLA CHOROMBO S.A              310.00\n",
            "IDAL S A                           181.00\n",
            "Name: Cantidad Comercial, dtype: float64\n",
            "\n",
            "- - - - - - - - -\n",
            "\n"
          ]
        }
      ],
      "source": [
        "year_groupedby = (totalNetImport_year.groupby(\n",
        "    \"Importador\").sum().sort_values('Cantidad Comercial', ascending=False)/1000).round(2)\n",
        "\n",
        "print(\"\\033[1m\\n> Volumen total neto de importaciones en el ultimo año por compañia en TONELADAS:\\n\\033[0m\")\n",
        "\n",
        "year_groupedby.apply(print)\n",
        "\n",
        "print(\"\\n- - - - - - - - -\\n\")\n"
      ]
    },
    {
      "cell_type": "code",
      "execution_count": null,
      "metadata": {
        "id": "A8d0UDP3D_XI"
      },
      "outputs": [
        {
          "name": "stdout",
          "output_type": "stream",
          "text": [
            "\u001b[1m\n",
            "> Volumen total neto de importaciones en el ultimo semestre por compañia en TONELADAS:\n",
            "\u001b[0m\n",
            "Importador\n",
            "AGRICOLA SUPER LIMITADA          7486.96\n",
            "No disponible                    5137.00\n",
            "EXPORTADORA LOS FIORDOS LTDA.    2227.50\n",
            "PROTEINAS DEL AGRO S.A.          1850.00\n",
            "QUIMICA DEL PACIFICO LIMITADA     743.00\n",
            "VETERQUIMICA S.A.                 695.00\n",
            "SUDAMERICA COMERCIAL S.A          663.75\n",
            "ANASAC CHILE S.A.                 500.00\n",
            "COMERCIAL NATUFEED LIMITADA       450.00\n",
            "AGRICOLA CHOROMBO S.A             208.00\n",
            "Name: Cantidad Comercial, dtype: float64\n",
            "\n",
            "- - - - - - - - -\n",
            "\n"
          ]
        }
      ],
      "source": [
        "sixMonths_groupedby = (totalNetImport_6months.groupby(\n",
        "    \"Importador\").sum().sort_values('Cantidad Comercial', ascending=False)/1000).round(2)\n",
        "\n",
        "print(\"\\033[1m\\n> Volumen total neto de importaciones en el ultimo semestre por compañia en TONELADAS:\\n\\033[0m\")\n",
        "\n",
        "sixMonths_groupedby.apply(print)\n",
        "\n",
        "# print(totalNetImport_6months[\"Kgs. Netos\"].sum()) - Vol. total sin discriminar compañias\n",
        "\n",
        "print(\"\\n- - - - - - - - -\\n\")\n"
      ]
    }
  ],
  "metadata": {
    "colab": {
      "provenance": []
    },
    "kernelspec": {
      "display_name": "Python 3",
      "language": "python",
      "name": "python3"
    },
    "language_info": {
      "codemirror_mode": {
        "name": "ipython",
        "version": 3
      },
      "file_extension": ".py",
      "mimetype": "text/x-python",
      "name": "python",
      "nbconvert_exporter": "python",
      "pygments_lexer": "ipython3",
      "version": "3.9.6"
    },
    "orig_nbformat": 4,
    "vscode": {
      "interpreter": {
        "hash": "31f2aee4e71d21fbe5cf8b01ff0e069b9275f58929596ceb00d14d90e3e16cd6"
      }
    }
  },
  "nbformat": 4,
  "nbformat_minor": 0
}
